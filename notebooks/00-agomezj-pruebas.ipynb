{
 "cells": [
  {
   "cell_type": "code",
   "execution_count": 1,
   "id": "678ebb0f-1b10-4995-bc62-1605ef2449bd",
   "metadata": {
    "ExecuteTime": {
     "end_time": "2024-05-19T00:16:56.262719Z",
     "start_time": "2024-05-19T00:16:55.684229Z"
    }
   },
   "outputs": [],
   "source": [
    "import sys\n",
    "import yaml\n",
    "import os\n",
    "import numpy as np\n",
    "import pandas as pd"
   ]
  },
  {
   "cell_type": "code",
   "execution_count": 2,
   "id": "14ef0426-5733-40f0-ae43-6b29cb4fcc23",
   "metadata": {
    "ExecuteTime": {
     "end_time": "2024-05-19T00:16:56.266344Z",
     "start_time": "2024-05-19T00:16:56.263829Z"
    }
   },
   "outputs": [],
   "source": [
    "sys.path.append('../src/')\n",
    "project_root = os.path.dirname(os.getcwd())"
   ]
  },
  {
   "cell_type": "code",
   "execution_count": 3,
   "id": "2e48b941-75b0-49ff-af83-25bdb6291282",
   "metadata": {
    "ExecuteTime": {
     "end_time": "2024-05-19T00:16:56.270299Z",
     "start_time": "2024-05-19T00:16:56.267310Z"
    }
   },
   "outputs": [],
   "source": [
    "# Directorios para los archivos de parámetros y los datos\n",
    "parameters_directory = os.path.join(project_root, 'src', 'parameters')\n",
    "train_data_directory = os.path.join(project_root, 'data', '04_model_input', 'train')\n",
    "test_data_directory = os.path.join(project_root, 'data', '04_model_input', 'test')\n",
    "validation_data_directory = os.path.join(project_root, 'data', '04_model_input', 'validation')"
   ]
  },
  {
   "cell_type": "code",
   "execution_count": 4,
   "id": "d12427ff-080f-4cc9-9ca8-575dfe9d2d08",
   "metadata": {
    "ExecuteTime": {
     "end_time": "2024-05-19T00:16:56.485262Z",
     "start_time": "2024-05-19T00:16:56.272430Z"
    }
   },
   "outputs": [],
   "source": [
    "# Lista todos los archivos YAML en el directorio especificado\n",
    "yaml_files = [f for f in os.listdir(parameters_directory) if f.endswith('.yml')]\n",
    "\n",
    "# Diccionario para guardar los parámetros cargados\n",
    "parameters = {}\n",
    "\n",
    "# Carga cada archivo YAML\n",
    "for yaml_file in yaml_files:\n",
    "    with open(os.path.join(parameters_directory, yaml_file), 'r') as file:\n",
    "        data = yaml.safe_load(file)\n",
    "        key_name = f'parameters_{yaml_file.replace(\".yml\", \"\")}'\n",
    "        parameters[key_name] = data"
   ]
  },
  {
   "cell_type": "markdown",
   "id": "3e126f4b-9096-4c90-818a-a6b45c87457a",
   "metadata": {},
   "source": [
    "MODELING DATA"
   ]
  },
  {
   "cell_type": "code",
   "execution_count": 5,
   "id": "f1528a01-e90f-46a6-9557-bb17a42e24dc",
   "metadata": {
    "ExecuteTime": {
     "end_time": "2024-05-19T00:17:32.268280Z",
     "start_time": "2024-05-19T00:17:31.492237Z"
    }
   },
   "outputs": [],
   "source": [
    "# Nodos\n",
    "from functions.modeling import (train_als, grid_search_als)"
   ]
  },
  {
   "cell_type": "code",
   "execution_count": 6,
   "id": "be8ef904-ade6-45e2-80ef-cdbf54dab7ef",
   "metadata": {
    "ExecuteTime": {
     "end_time": "2024-05-19T00:16:56.685506Z",
     "start_time": "2024-05-19T00:16:56.673097Z"
    }
   },
   "outputs": [],
   "source": [
    "train_data_path = os.path.join(train_data_directory, parameters['parameters_catalog']['train_data_path'])\n",
    "test_data_path = os.path.join(test_data_directory, parameters['parameters_catalog']['test_data_path'])\n",
    "validation_data_path = os.path.join(validation_data_directory, parameters['parameters_catalog']['validation_data_path'])\n",
    "\n",
    "\n",
    "train_data = pd.read_parquet(train_data_path)\n",
    "test_data = pd.read_parquet(test_data_path)\n",
    "validation_data = pd.read_parquet(validation_data_path)"
   ]
  },
  {
   "cell_type": "code",
   "execution_count": 10,
   "id": "60930857d47384ca",
   "metadata": {
    "ExecuteTime": {
     "end_time": "2024-05-19T00:17:34.829067Z",
     "start_time": "2024-05-19T00:17:34.780536Z"
    }
   },
   "outputs": [
    {
     "name": "stderr",
     "output_type": "stream",
     "text": [
      "INFO:functions.modeling:Iniciando el entrenamiento del modelo ALS...\n"
     ]
    },
    {
     "data": {
      "application/vnd.jupyter.widget-view+json": {
       "model_id": "2d083584c2d046448b9850b15036a6e5",
       "version_major": 2,
       "version_minor": 0
      },
      "text/plain": [
       "  0%|          | 0/10 [00:00<?, ?it/s]"
      ]
     },
     "metadata": {},
     "output_type": "display_data"
    },
    {
     "name": "stderr",
     "output_type": "stream",
     "text": [
      "INFO:functions.modeling:Finalizado el entrenamiento del modelo ALS!\n"
     ]
    }
   ],
   "source": [
    "prubea1 = train_als(train_data, parameters['parameters_modeling'])"
   ]
  },
  {
   "cell_type": "code",
   "execution_count": 11,
   "id": "214b1baa51a04fc9",
   "metadata": {},
   "outputs": [
    {
     "name": "stderr",
     "output_type": "stream",
     "text": [
      "INFO:functions.modeling:Iniciando la búsqueda de hiperparámetros...\n"
     ]
    },
    {
     "data": {
      "application/vnd.jupyter.widget-view+json": {
       "model_id": "efe8bc6f01014713aaad8e6d8fef3f09",
       "version_major": 2,
       "version_minor": 0
      },
      "text/plain": [
       "  0%|          | 0/10 [00:00<?, ?it/s]"
      ]
     },
     "metadata": {},
     "output_type": "display_data"
    },
    {
     "name": "stderr",
     "output_type": "stream",
     "text": [
      "INFO:functions.modeling:Iniciando la evaluación del modelo...\n",
      "INFO:functions.modeling:Puntuación de evaluación del modelo: 3.088776975756793e-05\n"
     ]
    },
    {
     "data": {
      "application/vnd.jupyter.widget-view+json": {
       "model_id": "79ea6e6c8e2045f8ae38ab68fba4d1c1",
       "version_major": 2,
       "version_minor": 0
      },
      "text/plain": [
       "  0%|          | 0/20 [00:00<?, ?it/s]"
      ]
     },
     "metadata": {},
     "output_type": "display_data"
    },
    {
     "name": "stderr",
     "output_type": "stream",
     "text": [
      "INFO:functions.modeling:Iniciando la evaluación del modelo...\n",
      "INFO:functions.modeling:Puntuación de evaluación del modelo: 3.060157782195967e-05\n"
     ]
    },
    {
     "data": {
      "application/vnd.jupyter.widget-view+json": {
       "model_id": "3d2371b03c2f46d99b1a4ab1abaa5afd",
       "version_major": 2,
       "version_minor": 0
      },
      "text/plain": [
       "  0%|          | 0/30 [00:00<?, ?it/s]"
      ]
     },
     "metadata": {},
     "output_type": "display_data"
    },
    {
     "name": "stderr",
     "output_type": "stream",
     "text": [
      "INFO:functions.modeling:Iniciando la evaluación del modelo...\n",
      "INFO:functions.modeling:Puntuación de evaluación del modelo: 3.0757063505642914e-05\n"
     ]
    },
    {
     "data": {
      "application/vnd.jupyter.widget-view+json": {
       "model_id": "11adab7f386245ddb32fce60ef2bb3b7",
       "version_major": 2,
       "version_minor": 0
      },
      "text/plain": [
       "  0%|          | 0/10 [00:00<?, ?it/s]"
      ]
     },
     "metadata": {},
     "output_type": "display_data"
    },
    {
     "name": "stderr",
     "output_type": "stream",
     "text": [
      "INFO:functions.modeling:Iniciando la evaluación del modelo...\n",
      "INFO:functions.modeling:Puntuación de evaluación del modelo: 2.8867909139835317e-05\n"
     ]
    },
    {
     "data": {
      "application/vnd.jupyter.widget-view+json": {
       "model_id": "b7cc9c233e0d4a4fb1ea3ebdc30244e3",
       "version_major": 2,
       "version_minor": 0
      },
      "text/plain": [
       "  0%|          | 0/20 [00:00<?, ?it/s]"
      ]
     },
     "metadata": {},
     "output_type": "display_data"
    },
    {
     "name": "stderr",
     "output_type": "stream",
     "text": [
      "INFO:functions.modeling:Iniciando la evaluación del modelo...\n",
      "INFO:functions.modeling:Puntuación de evaluación del modelo: 2.932352167947528e-05\n"
     ]
    },
    {
     "data": {
      "application/vnd.jupyter.widget-view+json": {
       "model_id": "6af2eedfb08149a5ab39ad3e07972e3b",
       "version_major": 2,
       "version_minor": 0
      },
      "text/plain": [
       "  0%|          | 0/30 [00:00<?, ?it/s]"
      ]
     },
     "metadata": {},
     "output_type": "display_data"
    },
    {
     "name": "stderr",
     "output_type": "stream",
     "text": [
      "INFO:functions.modeling:Iniciando la evaluación del modelo...\n",
      "INFO:functions.modeling:Puntuación de evaluación del modelo: 2.8902644977162135e-05\n"
     ]
    },
    {
     "data": {
      "application/vnd.jupyter.widget-view+json": {
       "model_id": "e43052e1cdd24702969729df4a70ab08",
       "version_major": 2,
       "version_minor": 0
      },
      "text/plain": [
       "  0%|          | 0/10 [00:00<?, ?it/s]"
      ]
     },
     "metadata": {},
     "output_type": "display_data"
    },
    {
     "name": "stderr",
     "output_type": "stream",
     "text": [
      "INFO:functions.modeling:Iniciando la evaluación del modelo...\n",
      "INFO:functions.modeling:Puntuación de evaluación del modelo: 2.2017911508778148e-05\n"
     ]
    },
    {
     "data": {
      "application/vnd.jupyter.widget-view+json": {
       "model_id": "f3e495eaaf784e038fb162c1d7f76be7",
       "version_major": 2,
       "version_minor": 0
      },
      "text/plain": [
       "  0%|          | 0/20 [00:00<?, ?it/s]"
      ]
     },
     "metadata": {},
     "output_type": "display_data"
    },
    {
     "name": "stderr",
     "output_type": "stream",
     "text": [
      "INFO:functions.modeling:Iniciando la evaluación del modelo...\n",
      "INFO:functions.modeling:Puntuación de evaluación del modelo: 2.2000776022989578e-05\n"
     ]
    },
    {
     "data": {
      "application/vnd.jupyter.widget-view+json": {
       "model_id": "7ffd7fffefe84e468f55e7f913ef1bd4",
       "version_major": 2,
       "version_minor": 0
      },
      "text/plain": [
       "  0%|          | 0/30 [00:00<?, ?it/s]"
      ]
     },
     "metadata": {},
     "output_type": "display_data"
    },
    {
     "name": "stderr",
     "output_type": "stream",
     "text": [
      "INFO:functions.modeling:Iniciando la evaluación del modelo...\n",
      "INFO:functions.modeling:Puntuación de evaluación del modelo: 2.2026916848295316e-05\n"
     ]
    },
    {
     "data": {
      "application/vnd.jupyter.widget-view+json": {
       "model_id": "82b4febe069b4c7d9252ef8906a2b666",
       "version_major": 2,
       "version_minor": 0
      },
      "text/plain": [
       "  0%|          | 0/10 [00:00<?, ?it/s]"
      ]
     },
     "metadata": {},
     "output_type": "display_data"
    },
    {
     "name": "stderr",
     "output_type": "stream",
     "text": [
      "INFO:functions.modeling:Iniciando la evaluación del modelo...\n",
      "INFO:functions.modeling:Puntuación de evaluación del modelo: 3.879202233776983e-05\n"
     ]
    },
    {
     "data": {
      "application/vnd.jupyter.widget-view+json": {
       "model_id": "750fa2149bde4939a98fc273da228229",
       "version_major": 2,
       "version_minor": 0
      },
      "text/plain": [
       "  0%|          | 0/20 [00:00<?, ?it/s]"
      ]
     },
     "metadata": {},
     "output_type": "display_data"
    },
    {
     "name": "stderr",
     "output_type": "stream",
     "text": [
      "INFO:functions.modeling:Iniciando la evaluación del modelo...\n",
      "INFO:functions.modeling:Puntuación de evaluación del modelo: 4.047612613200447e-05\n"
     ]
    },
    {
     "data": {
      "application/vnd.jupyter.widget-view+json": {
       "model_id": "052a14a5e0e84e29a6ae0ca507941093",
       "version_major": 2,
       "version_minor": 0
      },
      "text/plain": [
       "  0%|          | 0/30 [00:00<?, ?it/s]"
      ]
     },
     "metadata": {},
     "output_type": "display_data"
    },
    {
     "name": "stderr",
     "output_type": "stream",
     "text": [
      "INFO:functions.modeling:Iniciando la evaluación del modelo...\n",
      "INFO:functions.modeling:Puntuación de evaluación del modelo: 4.0571193792162725e-05\n"
     ]
    },
    {
     "data": {
      "application/vnd.jupyter.widget-view+json": {
       "model_id": "2ba02d0ebb0d49b284a490f7fba444d0",
       "version_major": 2,
       "version_minor": 0
      },
      "text/plain": [
       "  0%|          | 0/10 [00:00<?, ?it/s]"
      ]
     },
     "metadata": {},
     "output_type": "display_data"
    },
    {
     "name": "stderr",
     "output_type": "stream",
     "text": [
      "INFO:functions.modeling:Iniciando la evaluación del modelo...\n",
      "INFO:functions.modeling:Puntuación de evaluación del modelo: 3.67146306162007e-05\n"
     ]
    },
    {
     "data": {
      "application/vnd.jupyter.widget-view+json": {
       "model_id": "c3223abd81c249a1924d28bc7325d798",
       "version_major": 2,
       "version_minor": 0
      },
      "text/plain": [
       "  0%|          | 0/20 [00:00<?, ?it/s]"
      ]
     },
     "metadata": {},
     "output_type": "display_data"
    },
    {
     "name": "stderr",
     "output_type": "stream",
     "text": [
      "INFO:functions.modeling:Iniciando la evaluación del modelo...\n",
      "INFO:functions.modeling:Puntuación de evaluación del modelo: 3.63051845026739e-05\n"
     ]
    },
    {
     "data": {
      "application/vnd.jupyter.widget-view+json": {
       "model_id": "6c9f2897d1994a02bacc57b4db50bb6d",
       "version_major": 2,
       "version_minor": 0
      },
      "text/plain": [
       "  0%|          | 0/30 [00:00<?, ?it/s]"
      ]
     },
     "metadata": {},
     "output_type": "display_data"
    },
    {
     "name": "stderr",
     "output_type": "stream",
     "text": [
      "INFO:functions.modeling:Iniciando la evaluación del modelo...\n",
      "INFO:functions.modeling:Puntuación de evaluación del modelo: 3.65377925771024e-05\n"
     ]
    },
    {
     "data": {
      "application/vnd.jupyter.widget-view+json": {
       "model_id": "68e89df4f9e84b908f00c3f2185c3ffe",
       "version_major": 2,
       "version_minor": 0
      },
      "text/plain": [
       "  0%|          | 0/10 [00:00<?, ?it/s]"
      ]
     },
     "metadata": {},
     "output_type": "display_data"
    },
    {
     "name": "stderr",
     "output_type": "stream",
     "text": [
      "INFO:functions.modeling:Iniciando la evaluación del modelo...\n",
      "INFO:functions.modeling:Puntuación de evaluación del modelo: 2.2116910871813793e-05\n"
     ]
    },
    {
     "data": {
      "application/vnd.jupyter.widget-view+json": {
       "model_id": "54f18ab241f944d69e77fd24832de66e",
       "version_major": 2,
       "version_minor": 0
      },
      "text/plain": [
       "  0%|          | 0/20 [00:00<?, ?it/s]"
      ]
     },
     "metadata": {},
     "output_type": "display_data"
    },
    {
     "name": "stderr",
     "output_type": "stream",
     "text": [
      "INFO:functions.modeling:Iniciando la evaluación del modelo...\n",
      "INFO:functions.modeling:Puntuación de evaluación del modelo: 2.219520882710591e-05\n"
     ]
    },
    {
     "data": {
      "application/vnd.jupyter.widget-view+json": {
       "model_id": "38148cfdc3084f118a260f82efdb8fe7",
       "version_major": 2,
       "version_minor": 0
      },
      "text/plain": [
       "  0%|          | 0/30 [00:00<?, ?it/s]"
      ]
     },
     "metadata": {},
     "output_type": "display_data"
    },
    {
     "name": "stderr",
     "output_type": "stream",
     "text": [
      "INFO:functions.modeling:Iniciando la evaluación del modelo...\n",
      "INFO:functions.modeling:Puntuación de evaluación del modelo: 2.2234728342999913e-05\n"
     ]
    },
    {
     "data": {
      "application/vnd.jupyter.widget-view+json": {
       "model_id": "9dac8166e4f64191827b375174b2bcb0",
       "version_major": 2,
       "version_minor": 0
      },
      "text/plain": [
       "  0%|          | 0/10 [00:00<?, ?it/s]"
      ]
     },
     "metadata": {},
     "output_type": "display_data"
    },
    {
     "name": "stderr",
     "output_type": "stream",
     "text": [
      "INFO:functions.modeling:Iniciando la evaluación del modelo...\n",
      "INFO:functions.modeling:Puntuación de evaluación del modelo: 4.5944115084270434e-05\n"
     ]
    },
    {
     "data": {
      "application/vnd.jupyter.widget-view+json": {
       "model_id": "a2f4a5f5f6274e29a5867d9b9fba7702",
       "version_major": 2,
       "version_minor": 0
      },
      "text/plain": [
       "  0%|          | 0/20 [00:00<?, ?it/s]"
      ]
     },
     "metadata": {},
     "output_type": "display_data"
    },
    {
     "name": "stderr",
     "output_type": "stream",
     "text": [
      "INFO:functions.modeling:Iniciando la evaluación del modelo...\n",
      "INFO:functions.modeling:Puntuación de evaluación del modelo: 4.6685987721551194e-05\n"
     ]
    },
    {
     "data": {
      "application/vnd.jupyter.widget-view+json": {
       "model_id": "162007ad955e4a5b94e5f5ee36ee051e",
       "version_major": 2,
       "version_minor": 0
      },
      "text/plain": [
       "  0%|          | 0/30 [00:00<?, ?it/s]"
      ]
     },
     "metadata": {},
     "output_type": "display_data"
    },
    {
     "name": "stderr",
     "output_type": "stream",
     "text": [
      "INFO:functions.modeling:Iniciando la evaluación del modelo...\n",
      "INFO:functions.modeling:Puntuación de evaluación del modelo: 4.693018678616922e-05\n"
     ]
    },
    {
     "data": {
      "application/vnd.jupyter.widget-view+json": {
       "model_id": "52f078f999ea462eb232eb7b07b75b16",
       "version_major": 2,
       "version_minor": 0
      },
      "text/plain": [
       "  0%|          | 0/10 [00:00<?, ?it/s]"
      ]
     },
     "metadata": {},
     "output_type": "display_data"
    },
    {
     "name": "stderr",
     "output_type": "stream",
     "text": [
      "INFO:functions.modeling:Iniciando la evaluación del modelo...\n",
      "INFO:functions.modeling:Puntuación de evaluación del modelo: 4.180562651698312e-05\n"
     ]
    },
    {
     "data": {
      "application/vnd.jupyter.widget-view+json": {
       "model_id": "fce4fdb8e6e348a5bdb5715817806c2a",
       "version_major": 2,
       "version_minor": 0
      },
      "text/plain": [
       "  0%|          | 0/20 [00:00<?, ?it/s]"
      ]
     },
     "metadata": {},
     "output_type": "display_data"
    },
    {
     "name": "stderr",
     "output_type": "stream",
     "text": [
      "INFO:functions.modeling:Iniciando la evaluación del modelo...\n",
      "INFO:functions.modeling:Puntuación de evaluación del modelo: 4.2827385825725e-05\n"
     ]
    },
    {
     "data": {
      "application/vnd.jupyter.widget-view+json": {
       "model_id": "429fe9605a9e49b4b1a6f134562f03e4",
       "version_major": 2,
       "version_minor": 0
      },
      "text/plain": [
       "  0%|          | 0/30 [00:00<?, ?it/s]"
      ]
     },
     "metadata": {},
     "output_type": "display_data"
    },
    {
     "name": "stderr",
     "output_type": "stream",
     "text": [
      "INFO:functions.modeling:Iniciando la evaluación del modelo...\n",
      "INFO:functions.modeling:Puntuación de evaluación del modelo: 4.221777647420693e-05\n"
     ]
    },
    {
     "data": {
      "application/vnd.jupyter.widget-view+json": {
       "model_id": "cc4ed1e3270040df8bcb7e6c3edca968",
       "version_major": 2,
       "version_minor": 0
      },
      "text/plain": [
       "  0%|          | 0/10 [00:00<?, ?it/s]"
      ]
     },
     "metadata": {},
     "output_type": "display_data"
    },
    {
     "name": "stderr",
     "output_type": "stream",
     "text": [
      "INFO:functions.modeling:Iniciando la evaluación del modelo...\n",
      "INFO:functions.modeling:Puntuación de evaluación del modelo: 2.1795201463882246e-05\n"
     ]
    },
    {
     "data": {
      "application/vnd.jupyter.widget-view+json": {
       "model_id": "3def06df4a894ffa937928d5eb314118",
       "version_major": 2,
       "version_minor": 0
      },
      "text/plain": [
       "  0%|          | 0/20 [00:00<?, ?it/s]"
      ]
     },
     "metadata": {},
     "output_type": "display_data"
    },
    {
     "name": "stderr",
     "output_type": "stream",
     "text": [
      "INFO:functions.modeling:Iniciando la evaluación del modelo...\n",
      "INFO:functions.modeling:Puntuación de evaluación del modelo: 2.1885388915319787e-05\n"
     ]
    },
    {
     "data": {
      "application/vnd.jupyter.widget-view+json": {
       "model_id": "0e42125a4eae4df2887b1e63fd126d16",
       "version_major": 2,
       "version_minor": 0
      },
      "text/plain": [
       "  0%|          | 0/30 [00:00<?, ?it/s]"
      ]
     },
     "metadata": {},
     "output_type": "display_data"
    },
    {
     "name": "stderr",
     "output_type": "stream",
     "text": [
      "INFO:functions.modeling:Iniciando la evaluación del modelo...\n",
      "INFO:functions.modeling:Puntuación de evaluación del modelo: 2.188937003402042e-05\n",
      "INFO:functions.modeling:Mejores hiperparámetros encontrados: {'factors': 30, 'regularization': 1.0, 'iterations': 10} con una puntuación de 2.1795201463882246e-05\n"
     ]
    },
    {
     "data": {
      "application/vnd.jupyter.widget-view+json": {
       "model_id": "0ef4934a34bc49c790bb011ee38aa9f9",
       "version_major": 2,
       "version_minor": 0
      },
      "text/plain": [
       "  0%|          | 0/10 [00:00<?, ?it/s]"
      ]
     },
     "metadata": {},
     "output_type": "display_data"
    },
    {
     "name": "stderr",
     "output_type": "stream",
     "text": [
      "INFO:functions.modeling:Finalizado la búsqueda de hiperparámetros!\n"
     ]
    }
   ],
   "source": [
    "prubea2 = grid_search_als(prubea1, validation_data, parameters['parameters_modeling'])"
   ]
  },
  {
   "cell_type": "code",
   "execution_count": null,
   "id": "9ee9cf2d-1b10-409f-aa54-f7e74ecbb6ea",
   "metadata": {},
   "outputs": [],
   "source": []
  }
 ],
 "metadata": {
  "kernelspec": {
   "display_name": "Python 3 (ipykernel)",
   "language": "python",
   "name": "python3"
  },
  "language_info": {
   "codemirror_mode": {
    "name": "ipython",
    "version": 3
   },
   "file_extension": ".py",
   "mimetype": "text/x-python",
   "name": "python",
   "nbconvert_exporter": "python",
   "pygments_lexer": "ipython3",
   "version": "3.11.0"
  }
 },
 "nbformat": 4,
 "nbformat_minor": 5
}
