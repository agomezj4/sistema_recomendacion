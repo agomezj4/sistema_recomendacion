{
 "cells": [
  {
   "cell_type": "code",
   "execution_count": 1,
   "id": "678ebb0f-1b10-4995-bc62-1605ef2449bd",
   "metadata": {},
   "outputs": [],
   "source": [
    "import sys\n",
    "import yaml\n",
    "import os\n",
    "import numpy as np\n",
    "import pandas as pd"
   ]
  },
  {
   "cell_type": "code",
   "execution_count": 2,
   "id": "14ef0426-5733-40f0-ae43-6b29cb4fcc23",
   "metadata": {},
   "outputs": [],
   "source": [
    "sys.path.append('../src/')\n",
    "project_root = os.path.dirname(os.getcwd())"
   ]
  },
  {
   "cell_type": "code",
   "execution_count": 6,
   "id": "2e48b941-75b0-49ff-af83-25bdb6291282",
   "metadata": {},
   "outputs": [],
   "source": [
    "# Directorios para los archivos de parámetros y los datos\n",
    "parameters_directory = os.path.join(project_root, 'src', 'parameters')\n",
    "data_features_directory = os.path.join(project_root, 'data', '03_featured')"
   ]
  },
  {
   "cell_type": "code",
   "execution_count": 7,
   "id": "d12427ff-080f-4cc9-9ca8-575dfe9d2d08",
   "metadata": {},
   "outputs": [],
   "source": [
    "# Lista todos los archivos YAML en el directorio especificado\n",
    "yaml_files = [f for f in os.listdir(parameters_directory) if f.endswith('.yml')]\n",
    "\n",
    "# Diccionario para guardar los parámetros cargados\n",
    "parameters = {}\n",
    "\n",
    "# Carga cada archivo YAML\n",
    "for yaml_file in yaml_files:\n",
    "    with open(os.path.join(parameters_directory, yaml_file), 'r') as file:\n",
    "        data = yaml.safe_load(file)\n",
    "        key_name = f'parameters_{yaml_file.replace(\".yml\", \"\")}'\n",
    "        parameters[key_name] = data"
   ]
  },
  {
   "cell_type": "markdown",
   "id": "3e126f4b-9096-4c90-818a-a6b45c87457a",
   "metadata": {},
   "source": [
    "MODEL INPUT DATA"
   ]
  },
  {
   "cell_type": "code",
   "execution_count": 8,
   "id": "f1528a01-e90f-46a6-9557-bb17a42e24dc",
   "metadata": {},
   "outputs": [],
   "source": [
    "# # Nodos\n",
    "from functions.model_input import (transform_rfm,\n",
    "                                    split_data)"
   ]
  },
  {
   "cell_type": "code",
   "execution_count": 15,
   "id": "be8ef904-ade6-45e2-80ef-cdbf54dab7ef",
   "metadata": {},
   "outputs": [],
   "source": [
    "featured_data_path = os.path.join(data_features_directory, parameters['parameters_catalog']['featured_data_path'])\n",
    "\n",
    "data_featured = pd.read_parquet(featured_data_path)"
   ]
  },
  {
   "cell_type": "code",
   "execution_count": 17,
   "id": "4d49dd42-5886-49a7-b7ae-58a325609039",
   "metadata": {},
   "outputs": [
    {
     "name": "stderr",
     "output_type": "stream",
     "text": [
      "INFO:functions.model_input:Iniciando la transformación de métricas RFM...\n",
      "INFO:functions.model_input:Finalizada la transformación de métricas RFM!\n"
     ]
    }
   ],
   "source": [
    "prueba1 = transform_rfm(data_featured, parameters['parameters_featuring'])"
   ]
  },
  {
   "cell_type": "code",
   "execution_count": 20,
   "id": "228e0f5f-7977-4d61-b85f-80140307157d",
   "metadata": {},
   "outputs": [
    {
     "name": "stderr",
     "output_type": "stream",
     "text": [
      "INFO:functions.model_input:Iniciando la división de datos en entrenamiento, validación y prueba...\n",
      "INFO:functions.model_input:División de datos en entrenamiento, validación y prueba completada!\n"
     ]
    }
   ],
   "source": [
    "prueba2 = split_data(prueba1, parameters['parameters_model_input'])"
   ]
  },
  {
   "cell_type": "code",
   "execution_count": null,
   "id": "d6a28fcb-6552-4f23-af5a-0371b2d1bb54",
   "metadata": {},
   "outputs": [],
   "source": []
  }
 ],
 "metadata": {
  "kernelspec": {
   "display_name": "Python 3 (ipykernel)",
   "language": "python",
   "name": "python3"
  },
  "language_info": {
   "codemirror_mode": {
    "name": "ipython",
    "version": 3
   },
   "file_extension": ".py",
   "mimetype": "text/x-python",
   "name": "python",
   "nbconvert_exporter": "python",
   "pygments_lexer": "ipython3",
   "version": "3.11.0"
  }
 },
 "nbformat": 4,
 "nbformat_minor": 5
}
