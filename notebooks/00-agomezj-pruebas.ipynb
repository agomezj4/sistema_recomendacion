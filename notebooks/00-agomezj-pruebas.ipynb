{
 "cells": [
  {
   "cell_type": "code",
   "execution_count": 1,
   "id": "678ebb0f-1b10-4995-bc62-1605ef2449bd",
   "metadata": {
    "ExecuteTime": {
     "end_time": "2024-05-19T00:16:56.262719Z",
     "start_time": "2024-05-19T00:16:55.684229Z"
    }
   },
   "source": [
    "import sys\n",
    "import yaml\n",
    "import os\n",
    "import numpy as np\n",
    "import pandas as pd"
   ],
   "outputs": []
  },
  {
   "cell_type": "code",
   "execution_count": 2,
   "id": "14ef0426-5733-40f0-ae43-6b29cb4fcc23",
   "metadata": {
    "ExecuteTime": {
     "end_time": "2024-05-19T00:16:56.266344Z",
     "start_time": "2024-05-19T00:16:56.263829Z"
    }
   },
   "source": [
    "sys.path.append('../src/')\n",
    "project_root = os.path.dirname(os.getcwd())"
   ],
   "outputs": []
  },
  {
   "cell_type": "code",
   "execution_count": 3,
   "id": "2e48b941-75b0-49ff-af83-25bdb6291282",
   "metadata": {
    "ExecuteTime": {
     "end_time": "2024-05-19T00:16:56.270299Z",
     "start_time": "2024-05-19T00:16:56.267310Z"
    }
   },
   "source": [
    "# Directorios para los archivos de parámetros y los datos\n",
    "parameters_directory = os.path.join(project_root, 'src', 'parameters')\n",
    "train_data_directory = os.path.join(project_root, 'data', '04_model_input', 'train')\n",
    "test_data_directory = os.path.join(project_root, 'data', '04_model_input', 'test')\n",
    "validation_data_directory = os.path.join(project_root, 'data', '04_model_input', 'validation')\n",
    "model_input_data_directory = os.path.join(project_root, 'data', '04_model_input', 'test')"
   ],
   "outputs": []
  },
  {
   "cell_type": "code",
   "execution_count": 4,
   "id": "d12427ff-080f-4cc9-9ca8-575dfe9d2d08",
   "metadata": {
    "ExecuteTime": {
     "end_time": "2024-05-19T00:16:56.485262Z",
     "start_time": "2024-05-19T00:16:56.272430Z"
    }
   },
   "source": [
    "# Lista todos los archivos YAML en el directorio especificado\n",
    "yaml_files = [f for f in os.listdir(parameters_directory) if f.endswith('.yml')]\n",
    "\n",
    "# Diccionario para guardar los parámetros cargados\n",
    "parameters = {}\n",
    "\n",
    "# Carga cada archivo YAML\n",
    "for yaml_file in yaml_files:\n",
    "    with open(os.path.join(parameters_directory, yaml_file), 'r') as file:\n",
    "        data = yaml.safe_load(file)\n",
    "        key_name = f'parameters_{yaml_file.replace(\".yml\", \"\")}'\n",
    "        parameters[key_name] = data"
   ],
   "outputs": []
  },
  {
   "cell_type": "markdown",
   "id": "3e126f4b-9096-4c90-818a-a6b45c87457a",
   "metadata": {},
   "source": [
    "MODELING DATA"
   ]
  },
  {
   "cell_type": "code",
   "execution_count": 5,
   "id": "f1528a01-e90f-46a6-9557-bb17a42e24dc",
   "metadata": {
    "ExecuteTime": {
     "end_time": "2024-05-19T00:17:32.268280Z",
     "start_time": "2024-05-19T00:17:31.492237Z"
    }
   },
   "source": [
    "# Nodos\n",
    "from functions.modeling import (train_als, grid_search_als)"
   ],
   "outputs": []
  },
  {
   "cell_type": "code",
   "execution_count": 6,
   "id": "be8ef904-ade6-45e2-80ef-cdbf54dab7ef",
   "metadata": {
    "ExecuteTime": {
     "end_time": "2024-05-19T00:16:56.685506Z",
     "start_time": "2024-05-19T00:16:56.673097Z"
    }
   },
   "source": [
    "train_data_path = os.path.join(train_data_directory, parameters['parameters_catalog']['train_data_path'])\n",
    "test_data_path = os.path.join(test_data_directory, parameters['parameters_catalog']['test_data_path'])\n",
    "validation_data_path = os.path.join(validation_data_directory, parameters['parameters_catalog']['validation_data_path'])\n",
    "\n",
    "\n",
    "train_data = pd.read_parquet(train_data_path)\n",
    "test_data = pd.read_parquet(test_data_path)\n",
    "validation_data = pd.read_parquet(validation_data_path)"
   ],
   "outputs": []
  },
  {
   "cell_type": "code",
   "execution_count": 7,
   "id": "60930857d47384ca",
   "metadata": {
    "ExecuteTime": {
     "end_time": "2024-05-19T00:17:34.829067Z",
     "start_time": "2024-05-19T00:17:34.780536Z"
    }
   },
   "source": [
    "prubea1 = train_als(train_data, parameters['parameters_modeling'])"
   ],
   "outputs": []
  },
  {
   "cell_type": "code",
   "execution_count": 8,
   "id": "214b1baa51a04fc9",
   "metadata": {},
   "source": [
    "prubea2 = grid_search_als(prubea1, validation_data, parameters['parameters_modeling'])"
   ],
   "outputs": []
  },
  {
   "cell_type": "code",
   "execution_count": 9,
   "id": "42cab082-66c5-4874-9ac2-cb86009717ff",
   "metadata": {},
   "source": [
    "# Nodos\n",
    "from functions.predicting import (predicting_als)"
   ],
   "outputs": []
  },
  {
   "cell_type": "code",
   "execution_count": 10,
   "id": "2f966d54-5847-4572-aef5-132ebc9b6644",
   "metadata": {},
   "source": [
    "prueba3 = predicting_als(prubea2, train_data, parameters['parameters_modeling'], 3)"
   ],
   "outputs": []
  },
  {
   "cell_type": "code",
   "execution_count": null,
   "id": "0e7ef624-4e66-46b3-a28d-416f58b8fb61",
   "metadata": {},
   "source": [],
   "outputs": []
  }
 ],
 "metadata": {
  "kernelspec": {
   "display_name": "Python 3 (ipykernel)",
   "language": "python",
   "name": "python3"
  },
  "language_info": {
   "codemirror_mode": {
    "name": "ipython",
    "version": 3
   },
   "file_extension": ".py",
   "mimetype": "text/x-python",
   "name": "python",
   "nbconvert_exporter": "python",
   "pygments_lexer": "ipython3",
   "version": "3.11.0"
  }
 },
 "nbformat": 4,
 "nbformat_minor": 5
}
