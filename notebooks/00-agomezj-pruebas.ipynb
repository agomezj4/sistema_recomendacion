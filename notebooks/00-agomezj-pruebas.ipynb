{
 "cells": [
  {
   "cell_type": "code",
   "execution_count": 1,
   "id": "678ebb0f-1b10-4995-bc62-1605ef2449bd",
   "metadata": {
    "ExecuteTime": {
     "end_time": "2024-05-19T00:16:56.262719Z",
     "start_time": "2024-05-19T00:16:55.684229Z"
    }
   },
   "outputs": [],
   "source": [
    "import sys\n",
    "import yaml\n",
    "import os\n",
    "import numpy as np\n",
    "import pandas as pd"
   ]
  },
  {
   "cell_type": "code",
   "execution_count": 2,
   "id": "14ef0426-5733-40f0-ae43-6b29cb4fcc23",
   "metadata": {
    "ExecuteTime": {
     "end_time": "2024-05-19T00:16:56.266344Z",
     "start_time": "2024-05-19T00:16:56.263829Z"
    }
   },
   "outputs": [],
   "source": [
    "sys.path.append('../src/')\n",
    "project_root = os.path.dirname(os.getcwd())"
   ]
  },
  {
   "cell_type": "code",
   "execution_count": 3,
   "id": "2e48b941-75b0-49ff-af83-25bdb6291282",
   "metadata": {
    "ExecuteTime": {
     "end_time": "2024-05-19T00:16:56.270299Z",
     "start_time": "2024-05-19T00:16:56.267310Z"
    }
   },
   "outputs": [],
   "source": [
    "# Directorios para los archivos de parámetros y los datos\n",
    "parameters_directory = os.path.join(project_root, 'src', 'parameters')\n",
    "train_data_directory = os.path.join(project_root, 'data', '04_model_input', 'train')\n",
    "test_data_directory = os.path.join(project_root, 'data', '04_model_input', 'test')\n",
    "validation_data_directory = os.path.join(project_root, 'data', '04_model_input', 'validation')"
   ]
  },
  {
   "cell_type": "code",
   "execution_count": 4,
   "id": "d12427ff-080f-4cc9-9ca8-575dfe9d2d08",
   "metadata": {
    "ExecuteTime": {
     "end_time": "2024-05-19T00:16:56.485262Z",
     "start_time": "2024-05-19T00:16:56.272430Z"
    }
   },
   "outputs": [],
   "source": [
    "# Lista todos los archivos YAML en el directorio especificado\n",
    "yaml_files = [f for f in os.listdir(parameters_directory) if f.endswith('.yml')]\n",
    "\n",
    "# Diccionario para guardar los parámetros cargados\n",
    "parameters = {}\n",
    "\n",
    "# Carga cada archivo YAML\n",
    "for yaml_file in yaml_files:\n",
    "    with open(os.path.join(parameters_directory, yaml_file), 'r') as file:\n",
    "        data = yaml.safe_load(file)\n",
    "        key_name = f'parameters_{yaml_file.replace(\".yml\", \"\")}'\n",
    "        parameters[key_name] = data"
   ]
  },
  {
   "cell_type": "markdown",
   "id": "3e126f4b-9096-4c90-818a-a6b45c87457a",
   "metadata": {},
   "source": [
    "MODELING DATA"
   ]
  },
  {
   "cell_type": "code",
   "execution_count": 5,
   "id": "f1528a01-e90f-46a6-9557-bb17a42e24dc",
   "metadata": {
    "ExecuteTime": {
     "end_time": "2024-05-19T00:17:32.268280Z",
     "start_time": "2024-05-19T00:17:31.492237Z"
    }
   },
   "outputs": [],
   "source": [
    "# Nodos\n",
    "from functions.modeling import (train_als, grid_search_als)"
   ]
  },
  {
   "cell_type": "code",
   "execution_count": 6,
   "id": "be8ef904-ade6-45e2-80ef-cdbf54dab7ef",
   "metadata": {
    "ExecuteTime": {
     "end_time": "2024-05-19T00:16:56.685506Z",
     "start_time": "2024-05-19T00:16:56.673097Z"
    }
   },
   "outputs": [],
   "source": [
    "train_data_path = os.path.join(train_data_directory, parameters['parameters_catalog']['train_data_path'])\n",
    "test_data_path = os.path.join(test_data_directory, parameters['parameters_catalog']['test_data_path'])\n",
    "validation_data_path = os.path.join(validation_data_directory, parameters['parameters_catalog']['validation_data_path'])\n",
    "\n",
    "\n",
    "train_data = pd.read_parquet(train_data_path)\n",
    "test_data = pd.read_parquet(test_data_path)\n",
    "validation_data = pd.read_parquet(validation_data_path)"
   ]
  },
  {
   "cell_type": "code",
   "execution_count": 7,
   "id": "60930857d47384ca",
   "metadata": {
    "ExecuteTime": {
     "end_time": "2024-05-19T00:17:34.829067Z",
     "start_time": "2024-05-19T00:17:34.780536Z"
    }
   },
   "outputs": [
    {
     "name": "stderr",
     "output_type": "stream",
     "text": [
      "INFO:functions.modeling:Iniciando el entrenamiento del modelo ALS por segmento...\n",
      "INFO:functions.modeling:Entrenando modelo ALS para el segmento: Potenciales\n",
      "/Users/agomezj/Desktop/Data Science/HV/PT/sistema_recomendacion/notebooks/../src/functions/modeling.py:53: SettingWithCopyWarning: \n",
      "A value is trying to be set on a copy of a slice from a DataFrame.\n",
      "Try using .loc[row_indexer,col_indexer] = value instead\n",
      "\n",
      "See the caveats in the documentation: https://pandas.pydata.org/pandas-docs/stable/user_guide/indexing.html#returning-a-view-versus-a-copy\n",
      "  df_segment[user_col] = df_segment[user_col].astype('category')\n",
      "/Users/agomezj/Desktop/Data Science/HV/PT/sistema_recomendacion/notebooks/../src/functions/modeling.py:54: SettingWithCopyWarning: \n",
      "A value is trying to be set on a copy of a slice from a DataFrame.\n",
      "Try using .loc[row_indexer,col_indexer] = value instead\n",
      "\n",
      "See the caveats in the documentation: https://pandas.pydata.org/pandas-docs/stable/user_guide/indexing.html#returning-a-view-versus-a-copy\n",
      "  df_segment[item_col] = df_segment[item_col].astype('category')\n"
     ]
    },
    {
     "data": {
      "application/vnd.jupyter.widget-view+json": {
       "model_id": "fd8bbcf858d341169d680c58851b0820",
       "version_major": 2,
       "version_minor": 0
      },
      "text/plain": [
       "  0%|          | 0/10 [00:00<?, ?it/s]"
      ]
     },
     "metadata": {},
     "output_type": "display_data"
    },
    {
     "name": "stderr",
     "output_type": "stream",
     "text": [
      "INFO:functions.modeling:Modelo ALS para el segmento Potenciales entrenado con éxito.\n",
      "INFO:functions.modeling:Entrenando modelo ALS para el segmento: Alto Valor\n",
      "/Users/agomezj/Desktop/Data Science/HV/PT/sistema_recomendacion/notebooks/../src/functions/modeling.py:53: SettingWithCopyWarning: \n",
      "A value is trying to be set on a copy of a slice from a DataFrame.\n",
      "Try using .loc[row_indexer,col_indexer] = value instead\n",
      "\n",
      "See the caveats in the documentation: https://pandas.pydata.org/pandas-docs/stable/user_guide/indexing.html#returning-a-view-versus-a-copy\n",
      "  df_segment[user_col] = df_segment[user_col].astype('category')\n",
      "/Users/agomezj/Desktop/Data Science/HV/PT/sistema_recomendacion/notebooks/../src/functions/modeling.py:54: SettingWithCopyWarning: \n",
      "A value is trying to be set on a copy of a slice from a DataFrame.\n",
      "Try using .loc[row_indexer,col_indexer] = value instead\n",
      "\n",
      "See the caveats in the documentation: https://pandas.pydata.org/pandas-docs/stable/user_guide/indexing.html#returning-a-view-versus-a-copy\n",
      "  df_segment[item_col] = df_segment[item_col].astype('category')\n"
     ]
    },
    {
     "data": {
      "application/vnd.jupyter.widget-view+json": {
       "model_id": "983b13366461419e8800d4f052b5d87c",
       "version_major": 2,
       "version_minor": 0
      },
      "text/plain": [
       "  0%|          | 0/10 [00:00<?, ?it/s]"
      ]
     },
     "metadata": {},
     "output_type": "display_data"
    },
    {
     "name": "stderr",
     "output_type": "stream",
     "text": [
      "INFO:functions.modeling:Modelo ALS para el segmento Alto Valor entrenado con éxito.\n",
      "INFO:functions.modeling:Entrenando modelo ALS para el segmento: Estratégicos\n",
      "/Users/agomezj/Desktop/Data Science/HV/PT/sistema_recomendacion/notebooks/../src/functions/modeling.py:53: SettingWithCopyWarning: \n",
      "A value is trying to be set on a copy of a slice from a DataFrame.\n",
      "Try using .loc[row_indexer,col_indexer] = value instead\n",
      "\n",
      "See the caveats in the documentation: https://pandas.pydata.org/pandas-docs/stable/user_guide/indexing.html#returning-a-view-versus-a-copy\n",
      "  df_segment[user_col] = df_segment[user_col].astype('category')\n",
      "/Users/agomezj/Desktop/Data Science/HV/PT/sistema_recomendacion/notebooks/../src/functions/modeling.py:54: SettingWithCopyWarning: \n",
      "A value is trying to be set on a copy of a slice from a DataFrame.\n",
      "Try using .loc[row_indexer,col_indexer] = value instead\n",
      "\n",
      "See the caveats in the documentation: https://pandas.pydata.org/pandas-docs/stable/user_guide/indexing.html#returning-a-view-versus-a-copy\n",
      "  df_segment[item_col] = df_segment[item_col].astype('category')\n"
     ]
    },
    {
     "data": {
      "application/vnd.jupyter.widget-view+json": {
       "model_id": "0e4feeab93d042768e74e6644f94aca7",
       "version_major": 2,
       "version_minor": 0
      },
      "text/plain": [
       "  0%|          | 0/10 [00:00<?, ?it/s]"
      ]
     },
     "metadata": {},
     "output_type": "display_data"
    },
    {
     "name": "stderr",
     "output_type": "stream",
     "text": [
      "INFO:functions.modeling:Modelo ALS para el segmento Estratégicos entrenado con éxito.\n",
      "INFO:functions.modeling:Finalizado el entrenamiento de todos los modelos ALS por segmento!\n"
     ]
    }
   ],
   "source": [
    "prubea1 = train_als(train_data, parameters['parameters_modeling'])"
   ]
  },
  {
   "cell_type": "code",
   "execution_count": 8,
   "id": "214b1baa51a04fc9",
   "metadata": {},
   "outputs": [
    {
     "name": "stderr",
     "output_type": "stream",
     "text": [
      "INFO:functions.modeling:Iniciando la búsqueda de hiperparámetros para cada segmento...\n",
      "INFO:functions.modeling:Buscando mejores hiperparámetros para el segmento: Potenciales\n"
     ]
    },
    {
     "data": {
      "application/vnd.jupyter.widget-view+json": {
       "model_id": "273ae1dc626f4b4197b671659e98f046",
       "version_major": 2,
       "version_minor": 0
      },
      "text/plain": [
       "  0%|          | 0/10 [00:00<?, ?it/s]"
      ]
     },
     "metadata": {},
     "output_type": "display_data"
    },
    {
     "name": "stderr",
     "output_type": "stream",
     "text": [
      "INFO:functions.modeling:Iniciando la evaluación del modelo...\n",
      "INFO:functions.modeling:Puntuación de evaluación del modelo: 2.895194234148159e-05\n"
     ]
    },
    {
     "data": {
      "application/vnd.jupyter.widget-view+json": {
       "model_id": "bfdabd01a76e489886bd3f455b77d0aa",
       "version_major": 2,
       "version_minor": 0
      },
      "text/plain": [
       "  0%|          | 0/20 [00:00<?, ?it/s]"
      ]
     },
     "metadata": {},
     "output_type": "display_data"
    },
    {
     "name": "stderr",
     "output_type": "stream",
     "text": [
      "INFO:functions.modeling:Iniciando la evaluación del modelo...\n",
      "INFO:functions.modeling:Puntuación de evaluación del modelo: 2.8283351196604584e-05\n"
     ]
    },
    {
     "data": {
      "application/vnd.jupyter.widget-view+json": {
       "model_id": "a267cf8aa3f84784914b10616f958b5e",
       "version_major": 2,
       "version_minor": 0
      },
      "text/plain": [
       "  0%|          | 0/30 [00:00<?, ?it/s]"
      ]
     },
     "metadata": {},
     "output_type": "display_data"
    },
    {
     "name": "stderr",
     "output_type": "stream",
     "text": [
      "INFO:functions.modeling:Iniciando la evaluación del modelo...\n",
      "INFO:functions.modeling:Puntuación de evaluación del modelo: 2.83867790139014e-05\n"
     ]
    },
    {
     "data": {
      "application/vnd.jupyter.widget-view+json": {
       "model_id": "c35ee564ddae46348185ef8c6a3178b6",
       "version_major": 2,
       "version_minor": 0
      },
      "text/plain": [
       "  0%|          | 0/10 [00:00<?, ?it/s]"
      ]
     },
     "metadata": {},
     "output_type": "display_data"
    },
    {
     "name": "stderr",
     "output_type": "stream",
     "text": [
      "INFO:functions.modeling:Iniciando la evaluación del modelo...\n",
      "INFO:functions.modeling:Puntuación de evaluación del modelo: 2.5823858450125228e-05\n"
     ]
    },
    {
     "data": {
      "application/vnd.jupyter.widget-view+json": {
       "model_id": "ec65b467f62a4eb4a5cac1c5d7f1bd45",
       "version_major": 2,
       "version_minor": 0
      },
      "text/plain": [
       "  0%|          | 0/20 [00:00<?, ?it/s]"
      ]
     },
     "metadata": {},
     "output_type": "display_data"
    },
    {
     "name": "stderr",
     "output_type": "stream",
     "text": [
      "INFO:functions.modeling:Iniciando la evaluación del modelo...\n",
      "INFO:functions.modeling:Puntuación de evaluación del modelo: 2.6325080442090207e-05\n"
     ]
    },
    {
     "data": {
      "application/vnd.jupyter.widget-view+json": {
       "model_id": "1e7017035f374936a04aa06984a11918",
       "version_major": 2,
       "version_minor": 0
      },
      "text/plain": [
       "  0%|          | 0/30 [00:00<?, ?it/s]"
      ]
     },
     "metadata": {},
     "output_type": "display_data"
    },
    {
     "name": "stderr",
     "output_type": "stream",
     "text": [
      "INFO:functions.modeling:Iniciando la evaluación del modelo...\n",
      "INFO:functions.modeling:Puntuación de evaluación del modelo: 2.667741202961163e-05\n"
     ]
    },
    {
     "data": {
      "application/vnd.jupyter.widget-view+json": {
       "model_id": "2c43f88373c34857abce6789f0a42a91",
       "version_major": 2,
       "version_minor": 0
      },
      "text/plain": [
       "  0%|          | 0/10 [00:00<?, ?it/s]"
      ]
     },
     "metadata": {},
     "output_type": "display_data"
    },
    {
     "name": "stderr",
     "output_type": "stream",
     "text": [
      "INFO:functions.modeling:Iniciando la evaluación del modelo...\n",
      "INFO:functions.modeling:Puntuación de evaluación del modelo: 1.683774641574485e-05\n"
     ]
    },
    {
     "data": {
      "application/vnd.jupyter.widget-view+json": {
       "model_id": "3ef882dce53b4fcbaed9d82896e0f236",
       "version_major": 2,
       "version_minor": 0
      },
      "text/plain": [
       "  0%|          | 0/20 [00:00<?, ?it/s]"
      ]
     },
     "metadata": {},
     "output_type": "display_data"
    },
    {
     "name": "stderr",
     "output_type": "stream",
     "text": [
      "INFO:functions.modeling:Iniciando la evaluación del modelo...\n",
      "INFO:functions.modeling:Puntuación de evaluación del modelo: 1.6785374658222523e-05\n"
     ]
    },
    {
     "data": {
      "application/vnd.jupyter.widget-view+json": {
       "model_id": "9ec85122f2b74c6d9d535ab056a7db24",
       "version_major": 2,
       "version_minor": 0
      },
      "text/plain": [
       "  0%|          | 0/30 [00:00<?, ?it/s]"
      ]
     },
     "metadata": {},
     "output_type": "display_data"
    },
    {
     "name": "stderr",
     "output_type": "stream",
     "text": [
      "INFO:functions.modeling:Iniciando la evaluación del modelo...\n",
      "INFO:functions.modeling:Puntuación de evaluación del modelo: 1.6837924964731634e-05\n"
     ]
    },
    {
     "data": {
      "application/vnd.jupyter.widget-view+json": {
       "model_id": "721e262af2114a7983666946bbc414f2",
       "version_major": 2,
       "version_minor": 0
      },
      "text/plain": [
       "  0%|          | 0/10 [00:00<?, ?it/s]"
      ]
     },
     "metadata": {},
     "output_type": "display_data"
    },
    {
     "name": "stderr",
     "output_type": "stream",
     "text": [
      "INFO:functions.modeling:Iniciando la evaluación del modelo...\n",
      "INFO:functions.modeling:Puntuación de evaluación del modelo: 3.714734816622869e-05\n"
     ]
    },
    {
     "data": {
      "application/vnd.jupyter.widget-view+json": {
       "model_id": "7fc4e43d92624e089b76ea1e985d8524",
       "version_major": 2,
       "version_minor": 0
      },
      "text/plain": [
       "  0%|          | 0/20 [00:00<?, ?it/s]"
      ]
     },
     "metadata": {},
     "output_type": "display_data"
    },
    {
     "name": "stderr",
     "output_type": "stream",
     "text": [
      "INFO:functions.modeling:Iniciando la evaluación del modelo...\n",
      "INFO:functions.modeling:Puntuación de evaluación del modelo: 3.766550130386052e-05\n"
     ]
    },
    {
     "data": {
      "application/vnd.jupyter.widget-view+json": {
       "model_id": "7923f570153548a0a7fcf5272a3ddfc2",
       "version_major": 2,
       "version_minor": 0
      },
      "text/plain": [
       "  0%|          | 0/30 [00:00<?, ?it/s]"
      ]
     },
     "metadata": {},
     "output_type": "display_data"
    },
    {
     "name": "stderr",
     "output_type": "stream",
     "text": [
      "INFO:functions.modeling:Iniciando la evaluación del modelo...\n",
      "INFO:functions.modeling:Puntuación de evaluación del modelo: 3.6925633858331806e-05\n"
     ]
    },
    {
     "data": {
      "application/vnd.jupyter.widget-view+json": {
       "model_id": "718d44f9ea7f4053be1b2bf29ca92952",
       "version_major": 2,
       "version_minor": 0
      },
      "text/plain": [
       "  0%|          | 0/10 [00:00<?, ?it/s]"
      ]
     },
     "metadata": {},
     "output_type": "display_data"
    },
    {
     "name": "stderr",
     "output_type": "stream",
     "text": [
      "INFO:functions.modeling:Iniciando la evaluación del modelo...\n",
      "INFO:functions.modeling:Puntuación de evaluación del modelo: 3.264442419963601e-05\n"
     ]
    },
    {
     "data": {
      "application/vnd.jupyter.widget-view+json": {
       "model_id": "ffef6b16910b4791935ba97ec5f10880",
       "version_major": 2,
       "version_minor": 0
      },
      "text/plain": [
       "  0%|          | 0/20 [00:00<?, ?it/s]"
      ]
     },
     "metadata": {},
     "output_type": "display_data"
    },
    {
     "name": "stderr",
     "output_type": "stream",
     "text": [
      "INFO:functions.modeling:Iniciando la evaluación del modelo...\n",
      "INFO:functions.modeling:Puntuación de evaluación del modelo: 3.260756943770482e-05\n"
     ]
    },
    {
     "data": {
      "application/vnd.jupyter.widget-view+json": {
       "model_id": "611b3c78ff0d4e45b7b6cb8ca49eb5b5",
       "version_major": 2,
       "version_minor": 0
      },
      "text/plain": [
       "  0%|          | 0/30 [00:00<?, ?it/s]"
      ]
     },
     "metadata": {},
     "output_type": "display_data"
    },
    {
     "name": "stderr",
     "output_type": "stream",
     "text": [
      "INFO:functions.modeling:Iniciando la evaluación del modelo...\n",
      "INFO:functions.modeling:Puntuación de evaluación del modelo: 3.2666900107763154e-05\n"
     ]
    },
    {
     "data": {
      "application/vnd.jupyter.widget-view+json": {
       "model_id": "c5a4db5bcff54f1fac090db440de6c0f",
       "version_major": 2,
       "version_minor": 0
      },
      "text/plain": [
       "  0%|          | 0/10 [00:00<?, ?it/s]"
      ]
     },
     "metadata": {},
     "output_type": "display_data"
    },
    {
     "name": "stderr",
     "output_type": "stream",
     "text": [
      "INFO:functions.modeling:Iniciando la evaluación del modelo...\n",
      "INFO:functions.modeling:Puntuación de evaluación del modelo: 1.631893331268645e-05\n"
     ]
    },
    {
     "data": {
      "application/vnd.jupyter.widget-view+json": {
       "model_id": "fc86ebd83b414baea958d93b4b505cf9",
       "version_major": 2,
       "version_minor": 0
      },
      "text/plain": [
       "  0%|          | 0/20 [00:00<?, ?it/s]"
      ]
     },
     "metadata": {},
     "output_type": "display_data"
    },
    {
     "name": "stderr",
     "output_type": "stream",
     "text": [
      "INFO:functions.modeling:Iniciando la evaluación del modelo...\n",
      "INFO:functions.modeling:Puntuación de evaluación del modelo: 1.6314485832200028e-05\n"
     ]
    },
    {
     "data": {
      "application/vnd.jupyter.widget-view+json": {
       "model_id": "0d890c7699344475bd9cc97ec08e9e90",
       "version_major": 2,
       "version_minor": 0
      },
      "text/plain": [
       "  0%|          | 0/30 [00:00<?, ?it/s]"
      ]
     },
     "metadata": {},
     "output_type": "display_data"
    },
    {
     "name": "stderr",
     "output_type": "stream",
     "text": [
      "INFO:functions.modeling:Iniciando la evaluación del modelo...\n",
      "INFO:functions.modeling:Puntuación de evaluación del modelo: 1.63163076239327e-05\n"
     ]
    },
    {
     "data": {
      "application/vnd.jupyter.widget-view+json": {
       "model_id": "d4324b41f2b348d4bea258c6d0776d59",
       "version_major": 2,
       "version_minor": 0
      },
      "text/plain": [
       "  0%|          | 0/10 [00:00<?, ?it/s]"
      ]
     },
     "metadata": {},
     "output_type": "display_data"
    },
    {
     "name": "stderr",
     "output_type": "stream",
     "text": [
      "INFO:functions.modeling:Iniciando la evaluación del modelo...\n",
      "INFO:functions.modeling:Puntuación de evaluación del modelo: 4.2963963016147405e-05\n"
     ]
    },
    {
     "data": {
      "application/vnd.jupyter.widget-view+json": {
       "model_id": "0174c6c875c44242b051d77b326a3e1d",
       "version_major": 2,
       "version_minor": 0
      },
      "text/plain": [
       "  0%|          | 0/20 [00:00<?, ?it/s]"
      ]
     },
     "metadata": {},
     "output_type": "display_data"
    },
    {
     "name": "stderr",
     "output_type": "stream",
     "text": [
      "INFO:functions.modeling:Iniciando la evaluación del modelo...\n",
      "INFO:functions.modeling:Puntuación de evaluación del modelo: 4.4119593050526794e-05\n"
     ]
    },
    {
     "data": {
      "application/vnd.jupyter.widget-view+json": {
       "model_id": "e4123531ff0648488c7cdd242708d39d",
       "version_major": 2,
       "version_minor": 0
      },
      "text/plain": [
       "  0%|          | 0/30 [00:00<?, ?it/s]"
      ]
     },
     "metadata": {},
     "output_type": "display_data"
    },
    {
     "name": "stderr",
     "output_type": "stream",
     "text": [
      "INFO:functions.modeling:Iniciando la evaluación del modelo...\n",
      "INFO:functions.modeling:Puntuación de evaluación del modelo: 4.387813224121676e-05\n"
     ]
    },
    {
     "data": {
      "application/vnd.jupyter.widget-view+json": {
       "model_id": "9b8b3619736f459fafd7dd5042f5a46a",
       "version_major": 2,
       "version_minor": 0
      },
      "text/plain": [
       "  0%|          | 0/10 [00:00<?, ?it/s]"
      ]
     },
     "metadata": {},
     "output_type": "display_data"
    },
    {
     "name": "stderr",
     "output_type": "stream",
     "text": [
      "INFO:functions.modeling:Iniciando la evaluación del modelo...\n",
      "INFO:functions.modeling:Puntuación de evaluación del modelo: 3.7958376428949275e-05\n"
     ]
    },
    {
     "data": {
      "application/vnd.jupyter.widget-view+json": {
       "model_id": "2dba3ff040a3477faf981da68c57d73c",
       "version_major": 2,
       "version_minor": 0
      },
      "text/plain": [
       "  0%|          | 0/20 [00:00<?, ?it/s]"
      ]
     },
     "metadata": {},
     "output_type": "display_data"
    },
    {
     "name": "stderr",
     "output_type": "stream",
     "text": [
      "INFO:functions.modeling:Iniciando la evaluación del modelo...\n",
      "INFO:functions.modeling:Puntuación de evaluación del modelo: 3.751768548024637e-05\n"
     ]
    },
    {
     "data": {
      "application/vnd.jupyter.widget-view+json": {
       "model_id": "66bf7cb00eca4e08aebcf99e9d8922b5",
       "version_major": 2,
       "version_minor": 0
      },
      "text/plain": [
       "  0%|          | 0/30 [00:00<?, ?it/s]"
      ]
     },
     "metadata": {},
     "output_type": "display_data"
    },
    {
     "name": "stderr",
     "output_type": "stream",
     "text": [
      "INFO:functions.modeling:Iniciando la evaluación del modelo...\n",
      "INFO:functions.modeling:Puntuación de evaluación del modelo: 3.843931334340063e-05\n"
     ]
    },
    {
     "data": {
      "application/vnd.jupyter.widget-view+json": {
       "model_id": "be030ed6aeba4eef8f2b020e5583cfe4",
       "version_major": 2,
       "version_minor": 0
      },
      "text/plain": [
       "  0%|          | 0/10 [00:00<?, ?it/s]"
      ]
     },
     "metadata": {},
     "output_type": "display_data"
    },
    {
     "name": "stderr",
     "output_type": "stream",
     "text": [
      "INFO:functions.modeling:Iniciando la evaluación del modelo...\n",
      "INFO:functions.modeling:Puntuación de evaluación del modelo: 1.5870400470868644e-05\n"
     ]
    },
    {
     "data": {
      "application/vnd.jupyter.widget-view+json": {
       "model_id": "f213db25e02145d28884decc00e6b0f6",
       "version_major": 2,
       "version_minor": 0
      },
      "text/plain": [
       "  0%|          | 0/20 [00:00<?, ?it/s]"
      ]
     },
     "metadata": {},
     "output_type": "display_data"
    },
    {
     "name": "stderr",
     "output_type": "stream",
     "text": [
      "INFO:functions.modeling:Iniciando la evaluación del modelo...\n",
      "INFO:functions.modeling:Puntuación de evaluación del modelo: 1.581872192296982e-05\n"
     ]
    },
    {
     "data": {
      "application/vnd.jupyter.widget-view+json": {
       "model_id": "4d49a4e88c284036a214f1bb89a4b303",
       "version_major": 2,
       "version_minor": 0
      },
      "text/plain": [
       "  0%|          | 0/30 [00:00<?, ?it/s]"
      ]
     },
     "metadata": {},
     "output_type": "display_data"
    },
    {
     "name": "stderr",
     "output_type": "stream",
     "text": [
      "INFO:functions.modeling:Iniciando la evaluación del modelo...\n",
      "INFO:functions.modeling:Puntuación de evaluación del modelo: 1.581824599295019e-05\n",
      "INFO:functions.modeling:Mejores hiperparámetros para el segmento Potenciales: {'factors': 30, 'regularization': 1.0, 'iterations': 30} con una puntuación de 1.581824599295019e-05\n"
     ]
    },
    {
     "data": {
      "application/vnd.jupyter.widget-view+json": {
       "model_id": "ac93921faf8447589b193c3c67279512",
       "version_major": 2,
       "version_minor": 0
      },
      "text/plain": [
       "  0%|          | 0/30 [00:00<?, ?it/s]"
      ]
     },
     "metadata": {},
     "output_type": "display_data"
    },
    {
     "name": "stderr",
     "output_type": "stream",
     "text": [
      "INFO:functions.modeling:Modelo ALS optimizado para el segmento Potenciales entrenado con éxito.\n",
      "INFO:functions.modeling:Buscando mejores hiperparámetros para el segmento: Alto Valor\n"
     ]
    },
    {
     "data": {
      "application/vnd.jupyter.widget-view+json": {
       "model_id": "1a18de49ce244c6b8d2604e3b3ae81f9",
       "version_major": 2,
       "version_minor": 0
      },
      "text/plain": [
       "  0%|          | 0/10 [00:00<?, ?it/s]"
      ]
     },
     "metadata": {},
     "output_type": "display_data"
    },
    {
     "name": "stderr",
     "output_type": "stream",
     "text": [
      "INFO:functions.modeling:Iniciando la evaluación del modelo...\n",
      "INFO:functions.modeling:Puntuación de evaluación del modelo: 0.00018887231616662248\n"
     ]
    },
    {
     "data": {
      "application/vnd.jupyter.widget-view+json": {
       "model_id": "87acfa1485254f699543c4747361e3ec",
       "version_major": 2,
       "version_minor": 0
      },
      "text/plain": [
       "  0%|          | 0/20 [00:00<?, ?it/s]"
      ]
     },
     "metadata": {},
     "output_type": "display_data"
    },
    {
     "name": "stderr",
     "output_type": "stream",
     "text": [
      "INFO:functions.modeling:Iniciando la evaluación del modelo...\n",
      "INFO:functions.modeling:Puntuación de evaluación del modelo: 0.00019350904558489262\n"
     ]
    },
    {
     "data": {
      "application/vnd.jupyter.widget-view+json": {
       "model_id": "22185d0438d74a00b90adee6e974204f",
       "version_major": 2,
       "version_minor": 0
      },
      "text/plain": [
       "  0%|          | 0/30 [00:00<?, ?it/s]"
      ]
     },
     "metadata": {},
     "output_type": "display_data"
    },
    {
     "name": "stderr",
     "output_type": "stream",
     "text": [
      "INFO:functions.modeling:Iniciando la evaluación del modelo...\n",
      "INFO:functions.modeling:Puntuación de evaluación del modelo: 0.00019203786531830493\n"
     ]
    },
    {
     "data": {
      "application/vnd.jupyter.widget-view+json": {
       "model_id": "9fcb45b5955d4069b4ea63fcc219edef",
       "version_major": 2,
       "version_minor": 0
      },
      "text/plain": [
       "  0%|          | 0/10 [00:00<?, ?it/s]"
      ]
     },
     "metadata": {},
     "output_type": "display_data"
    },
    {
     "name": "stderr",
     "output_type": "stream",
     "text": [
      "INFO:functions.modeling:Iniciando la evaluación del modelo...\n",
      "INFO:functions.modeling:Puntuación de evaluación del modelo: 0.0001812914564383796\n"
     ]
    },
    {
     "data": {
      "application/vnd.jupyter.widget-view+json": {
       "model_id": "aa6a7c81593c4eb9bd9e247db45a75ba",
       "version_major": 2,
       "version_minor": 0
      },
      "text/plain": [
       "  0%|          | 0/20 [00:00<?, ?it/s]"
      ]
     },
     "metadata": {},
     "output_type": "display_data"
    },
    {
     "name": "stderr",
     "output_type": "stream",
     "text": [
      "INFO:functions.modeling:Iniciando la evaluación del modelo...\n",
      "INFO:functions.modeling:Puntuación de evaluación del modelo: 0.00018269270115684678\n"
     ]
    },
    {
     "data": {
      "application/vnd.jupyter.widget-view+json": {
       "model_id": "60ee00cde50344f4bf7738ce710930b5",
       "version_major": 2,
       "version_minor": 0
      },
      "text/plain": [
       "  0%|          | 0/30 [00:00<?, ?it/s]"
      ]
     },
     "metadata": {},
     "output_type": "display_data"
    },
    {
     "name": "stderr",
     "output_type": "stream",
     "text": [
      "INFO:functions.modeling:Iniciando la evaluación del modelo...\n",
      "INFO:functions.modeling:Puntuación de evaluación del modelo: 0.00018338257522996525\n"
     ]
    },
    {
     "data": {
      "application/vnd.jupyter.widget-view+json": {
       "model_id": "fa23f5a8ccf4414db0aa4b8ed966bb7e",
       "version_major": 2,
       "version_minor": 0
      },
      "text/plain": [
       "  0%|          | 0/10 [00:00<?, ?it/s]"
      ]
     },
     "metadata": {},
     "output_type": "display_data"
    },
    {
     "name": "stderr",
     "output_type": "stream",
     "text": [
      "INFO:functions.modeling:Iniciando la evaluación del modelo...\n",
      "INFO:functions.modeling:Puntuación de evaluación del modelo: 0.0001425544572307973\n"
     ]
    },
    {
     "data": {
      "application/vnd.jupyter.widget-view+json": {
       "model_id": "e1301ebc09674acc9dbcd9c625aef769",
       "version_major": 2,
       "version_minor": 0
      },
      "text/plain": [
       "  0%|          | 0/20 [00:00<?, ?it/s]"
      ]
     },
     "metadata": {},
     "output_type": "display_data"
    },
    {
     "name": "stderr",
     "output_type": "stream",
     "text": [
      "INFO:functions.modeling:Iniciando la evaluación del modelo...\n",
      "INFO:functions.modeling:Puntuación de evaluación del modelo: 0.00014042105854086576\n"
     ]
    },
    {
     "data": {
      "application/vnd.jupyter.widget-view+json": {
       "model_id": "c390d3ac0c0643e89d93567884282c2c",
       "version_major": 2,
       "version_minor": 0
      },
      "text/plain": [
       "  0%|          | 0/30 [00:00<?, ?it/s]"
      ]
     },
     "metadata": {},
     "output_type": "display_data"
    },
    {
     "name": "stderr",
     "output_type": "stream",
     "text": [
      "INFO:functions.modeling:Iniciando la evaluación del modelo...\n",
      "INFO:functions.modeling:Puntuación de evaluación del modelo: 0.00014032295321566064\n"
     ]
    },
    {
     "data": {
      "application/vnd.jupyter.widget-view+json": {
       "model_id": "3486eeb42a79422a80a0114bb8722566",
       "version_major": 2,
       "version_minor": 0
      },
      "text/plain": [
       "  0%|          | 0/10 [00:00<?, ?it/s]"
      ]
     },
     "metadata": {},
     "output_type": "display_data"
    },
    {
     "name": "stderr",
     "output_type": "stream",
     "text": [
      "INFO:functions.modeling:Iniciando la evaluación del modelo...\n",
      "INFO:functions.modeling:Puntuación de evaluación del modelo: 0.00022758635776996673\n"
     ]
    },
    {
     "data": {
      "application/vnd.jupyter.widget-view+json": {
       "model_id": "74cd16d90507455aa42eb0d7783d7b72",
       "version_major": 2,
       "version_minor": 0
      },
      "text/plain": [
       "  0%|          | 0/20 [00:00<?, ?it/s]"
      ]
     },
     "metadata": {},
     "output_type": "display_data"
    },
    {
     "name": "stderr",
     "output_type": "stream",
     "text": [
      "INFO:functions.modeling:Iniciando la evaluación del modelo...\n",
      "INFO:functions.modeling:Puntuación de evaluación del modelo: 0.00022498927338168492\n"
     ]
    },
    {
     "data": {
      "application/vnd.jupyter.widget-view+json": {
       "model_id": "57abe142ebf54107a544176c64c01330",
       "version_major": 2,
       "version_minor": 0
      },
      "text/plain": [
       "  0%|          | 0/30 [00:00<?, ?it/s]"
      ]
     },
     "metadata": {},
     "output_type": "display_data"
    },
    {
     "name": "stderr",
     "output_type": "stream",
     "text": [
      "INFO:functions.modeling:Iniciando la evaluación del modelo...\n",
      "INFO:functions.modeling:Puntuación de evaluación del modelo: 0.0002286548221248592\n"
     ]
    },
    {
     "data": {
      "application/vnd.jupyter.widget-view+json": {
       "model_id": "e2ac0bd79d2549a781c0b0ca63e7c6b6",
       "version_major": 2,
       "version_minor": 0
      },
      "text/plain": [
       "  0%|          | 0/10 [00:00<?, ?it/s]"
      ]
     },
     "metadata": {},
     "output_type": "display_data"
    },
    {
     "name": "stderr",
     "output_type": "stream",
     "text": [
      "INFO:functions.modeling:Iniciando la evaluación del modelo...\n",
      "INFO:functions.modeling:Puntuación de evaluación del modelo: 0.00020132511985726756\n"
     ]
    },
    {
     "data": {
      "application/vnd.jupyter.widget-view+json": {
       "model_id": "bbbb0a7c5d5943259dccf1fb8f694238",
       "version_major": 2,
       "version_minor": 0
      },
      "text/plain": [
       "  0%|          | 0/20 [00:00<?, ?it/s]"
      ]
     },
     "metadata": {},
     "output_type": "display_data"
    },
    {
     "name": "stderr",
     "output_type": "stream",
     "text": [
      "INFO:functions.modeling:Iniciando la evaluación del modelo...\n",
      "INFO:functions.modeling:Puntuación de evaluación del modelo: 0.00020630607659794182\n"
     ]
    },
    {
     "data": {
      "application/vnd.jupyter.widget-view+json": {
       "model_id": "843903676d8b4e3fba02c57db9471fa8",
       "version_major": 2,
       "version_minor": 0
      },
      "text/plain": [
       "  0%|          | 0/30 [00:00<?, ?it/s]"
      ]
     },
     "metadata": {},
     "output_type": "display_data"
    },
    {
     "name": "stderr",
     "output_type": "stream",
     "text": [
      "INFO:functions.modeling:Iniciando la evaluación del modelo...\n",
      "INFO:functions.modeling:Puntuación de evaluación del modelo: 0.0002063187986126617\n"
     ]
    },
    {
     "data": {
      "application/vnd.jupyter.widget-view+json": {
       "model_id": "23f5034acc2440a8bcee88057e016ce1",
       "version_major": 2,
       "version_minor": 0
      },
      "text/plain": [
       "  0%|          | 0/10 [00:00<?, ?it/s]"
      ]
     },
     "metadata": {},
     "output_type": "display_data"
    },
    {
     "name": "stderr",
     "output_type": "stream",
     "text": [
      "INFO:functions.modeling:Iniciando la evaluación del modelo...\n",
      "INFO:functions.modeling:Puntuación de evaluación del modelo: 0.00014045786125667164\n"
     ]
    },
    {
     "data": {
      "application/vnd.jupyter.widget-view+json": {
       "model_id": "d86a6b8e195f424da6aa5763b3710c3a",
       "version_major": 2,
       "version_minor": 0
      },
      "text/plain": [
       "  0%|          | 0/20 [00:00<?, ?it/s]"
      ]
     },
     "metadata": {},
     "output_type": "display_data"
    },
    {
     "name": "stderr",
     "output_type": "stream",
     "text": [
      "INFO:functions.modeling:Iniciando la evaluación del modelo...\n",
      "INFO:functions.modeling:Puntuación de evaluación del modelo: 0.00013608175591887743\n"
     ]
    },
    {
     "data": {
      "application/vnd.jupyter.widget-view+json": {
       "model_id": "c1380be7fbee4d8d84f4161bd5e6c4d4",
       "version_major": 2,
       "version_minor": 0
      },
      "text/plain": [
       "  0%|          | 0/30 [00:00<?, ?it/s]"
      ]
     },
     "metadata": {},
     "output_type": "display_data"
    },
    {
     "name": "stderr",
     "output_type": "stream",
     "text": [
      "INFO:functions.modeling:Iniciando la evaluación del modelo...\n",
      "INFO:functions.modeling:Puntuación de evaluación del modelo: 0.0001350992242168705\n"
     ]
    },
    {
     "data": {
      "application/vnd.jupyter.widget-view+json": {
       "model_id": "9f6bb67f381b429dbc4034febd15fa00",
       "version_major": 2,
       "version_minor": 0
      },
      "text/plain": [
       "  0%|          | 0/10 [00:00<?, ?it/s]"
      ]
     },
     "metadata": {},
     "output_type": "display_data"
    },
    {
     "name": "stderr",
     "output_type": "stream",
     "text": [
      "INFO:functions.modeling:Iniciando la evaluación del modelo...\n",
      "INFO:functions.modeling:Puntuación de evaluación del modelo: 0.0002524264829019637\n"
     ]
    },
    {
     "data": {
      "application/vnd.jupyter.widget-view+json": {
       "model_id": "0809dbb665e842ef8987a70d52f5cb0d",
       "version_major": 2,
       "version_minor": 0
      },
      "text/plain": [
       "  0%|          | 0/20 [00:00<?, ?it/s]"
      ]
     },
     "metadata": {},
     "output_type": "display_data"
    },
    {
     "name": "stderr",
     "output_type": "stream",
     "text": [
      "INFO:functions.modeling:Iniciando la evaluación del modelo...\n",
      "INFO:functions.modeling:Puntuación de evaluación del modelo: 0.0002566144538116333\n"
     ]
    },
    {
     "data": {
      "application/vnd.jupyter.widget-view+json": {
       "model_id": "f100f53b49334a18824317434c97c912",
       "version_major": 2,
       "version_minor": 0
      },
      "text/plain": [
       "  0%|          | 0/30 [00:00<?, ?it/s]"
      ]
     },
     "metadata": {},
     "output_type": "display_data"
    },
    {
     "name": "stderr",
     "output_type": "stream",
     "text": [
      "INFO:functions.modeling:Iniciando la evaluación del modelo...\n",
      "INFO:functions.modeling:Puntuación de evaluación del modelo: 0.000255361206196149\n"
     ]
    },
    {
     "data": {
      "application/vnd.jupyter.widget-view+json": {
       "model_id": "c67c0da3642946dd8f0bf49f5ce8b835",
       "version_major": 2,
       "version_minor": 0
      },
      "text/plain": [
       "  0%|          | 0/10 [00:00<?, ?it/s]"
      ]
     },
     "metadata": {},
     "output_type": "display_data"
    },
    {
     "name": "stderr",
     "output_type": "stream",
     "text": [
      "INFO:functions.modeling:Iniciando la evaluación del modelo...\n",
      "INFO:functions.modeling:Puntuación de evaluación del modelo: 0.0002171509204758841\n"
     ]
    },
    {
     "data": {
      "application/vnd.jupyter.widget-view+json": {
       "model_id": "776ca651493c4a24aaeff27c76c44a6f",
       "version_major": 2,
       "version_minor": 0
      },
      "text/plain": [
       "  0%|          | 0/20 [00:00<?, ?it/s]"
      ]
     },
     "metadata": {},
     "output_type": "display_data"
    },
    {
     "name": "stderr",
     "output_type": "stream",
     "text": [
      "INFO:functions.modeling:Iniciando la evaluación del modelo...\n",
      "INFO:functions.modeling:Puntuación de evaluación del modelo: 0.00022572862411020668\n"
     ]
    },
    {
     "data": {
      "application/vnd.jupyter.widget-view+json": {
       "model_id": "2e583b44a21b42f3a48daf23ae16a958",
       "version_major": 2,
       "version_minor": 0
      },
      "text/plain": [
       "  0%|          | 0/30 [00:00<?, ?it/s]"
      ]
     },
     "metadata": {},
     "output_type": "display_data"
    },
    {
     "name": "stderr",
     "output_type": "stream",
     "text": [
      "INFO:functions.modeling:Iniciando la evaluación del modelo...\n",
      "INFO:functions.modeling:Puntuación de evaluación del modelo: 0.00022414737355897323\n"
     ]
    },
    {
     "data": {
      "application/vnd.jupyter.widget-view+json": {
       "model_id": "1b31cca98d274f68b3dd6059095f9e42",
       "version_major": 2,
       "version_minor": 0
      },
      "text/plain": [
       "  0%|          | 0/10 [00:00<?, ?it/s]"
      ]
     },
     "metadata": {},
     "output_type": "display_data"
    },
    {
     "name": "stderr",
     "output_type": "stream",
     "text": [
      "INFO:functions.modeling:Iniciando la evaluación del modelo...\n",
      "INFO:functions.modeling:Puntuación de evaluación del modelo: 0.00013951269849324594\n"
     ]
    },
    {
     "data": {
      "application/vnd.jupyter.widget-view+json": {
       "model_id": "6d462294a97f4a0faf304bc33894d2f4",
       "version_major": 2,
       "version_minor": 0
      },
      "text/plain": [
       "  0%|          | 0/20 [00:00<?, ?it/s]"
      ]
     },
     "metadata": {},
     "output_type": "display_data"
    },
    {
     "name": "stderr",
     "output_type": "stream",
     "text": [
      "INFO:functions.modeling:Iniciando la evaluación del modelo...\n",
      "INFO:functions.modeling:Puntuación de evaluación del modelo: 0.0001353456942351272\n"
     ]
    },
    {
     "data": {
      "application/vnd.jupyter.widget-view+json": {
       "model_id": "97f63469f1cd4eb8ac4229adaf435384",
       "version_major": 2,
       "version_minor": 0
      },
      "text/plain": [
       "  0%|          | 0/30 [00:00<?, ?it/s]"
      ]
     },
     "metadata": {},
     "output_type": "display_data"
    },
    {
     "name": "stderr",
     "output_type": "stream",
     "text": [
      "INFO:functions.modeling:Iniciando la evaluación del modelo...\n",
      "INFO:functions.modeling:Puntuación de evaluación del modelo: 0.00013440017949068123\n",
      "INFO:functions.modeling:Mejores hiperparámetros para el segmento Alto Valor: {'factors': 30, 'regularization': 1.0, 'iterations': 30} con una puntuación de 0.00013440017949068123\n"
     ]
    },
    {
     "data": {
      "application/vnd.jupyter.widget-view+json": {
       "model_id": "2af5bb35c55d49da8d92801cf1cf91e4",
       "version_major": 2,
       "version_minor": 0
      },
      "text/plain": [
       "  0%|          | 0/30 [00:00<?, ?it/s]"
      ]
     },
     "metadata": {},
     "output_type": "display_data"
    },
    {
     "name": "stderr",
     "output_type": "stream",
     "text": [
      "INFO:functions.modeling:Modelo ALS optimizado para el segmento Alto Valor entrenado con éxito.\n",
      "INFO:functions.modeling:Buscando mejores hiperparámetros para el segmento: Estratégicos\n"
     ]
    },
    {
     "data": {
      "application/vnd.jupyter.widget-view+json": {
       "model_id": "004badfb43354425966dc617c3e92fe7",
       "version_major": 2,
       "version_minor": 0
      },
      "text/plain": [
       "  0%|          | 0/10 [00:00<?, ?it/s]"
      ]
     },
     "metadata": {},
     "output_type": "display_data"
    },
    {
     "name": "stderr",
     "output_type": "stream",
     "text": [
      "INFO:functions.modeling:Iniciando la evaluación del modelo...\n",
      "INFO:functions.modeling:Puntuación de evaluación del modelo: 7.482823737145743e-05\n"
     ]
    },
    {
     "data": {
      "application/vnd.jupyter.widget-view+json": {
       "model_id": "b3a0d11f3c094ac89814516829799fb6",
       "version_major": 2,
       "version_minor": 0
      },
      "text/plain": [
       "  0%|          | 0/20 [00:00<?, ?it/s]"
      ]
     },
     "metadata": {},
     "output_type": "display_data"
    },
    {
     "name": "stderr",
     "output_type": "stream",
     "text": [
      "INFO:functions.modeling:Iniciando la evaluación del modelo...\n",
      "INFO:functions.modeling:Puntuación de evaluación del modelo: 7.53357926170165e-05\n"
     ]
    },
    {
     "data": {
      "application/vnd.jupyter.widget-view+json": {
       "model_id": "8e8c78e294fc474287a09f313b116179",
       "version_major": 2,
       "version_minor": 0
      },
      "text/plain": [
       "  0%|          | 0/30 [00:00<?, ?it/s]"
      ]
     },
     "metadata": {},
     "output_type": "display_data"
    },
    {
     "name": "stderr",
     "output_type": "stream",
     "text": [
      "INFO:functions.modeling:Iniciando la evaluación del modelo...\n",
      "INFO:functions.modeling:Puntuación de evaluación del modelo: 7.633101179168793e-05\n"
     ]
    },
    {
     "data": {
      "application/vnd.jupyter.widget-view+json": {
       "model_id": "f748a774af5348e68bb2da3c4e99214c",
       "version_major": 2,
       "version_minor": 0
      },
      "text/plain": [
       "  0%|          | 0/10 [00:00<?, ?it/s]"
      ]
     },
     "metadata": {},
     "output_type": "display_data"
    },
    {
     "name": "stderr",
     "output_type": "stream",
     "text": [
      "INFO:functions.modeling:Iniciando la evaluación del modelo...\n",
      "INFO:functions.modeling:Puntuación de evaluación del modelo: 6.879442864588951e-05\n"
     ]
    },
    {
     "data": {
      "application/vnd.jupyter.widget-view+json": {
       "model_id": "7d1119182738466a87b6168b994ac83b",
       "version_major": 2,
       "version_minor": 0
      },
      "text/plain": [
       "  0%|          | 0/20 [00:00<?, ?it/s]"
      ]
     },
     "metadata": {},
     "output_type": "display_data"
    },
    {
     "name": "stderr",
     "output_type": "stream",
     "text": [
      "INFO:functions.modeling:Iniciando la evaluación del modelo...\n",
      "INFO:functions.modeling:Puntuación de evaluación del modelo: 6.930997652491317e-05\n"
     ]
    },
    {
     "data": {
      "application/vnd.jupyter.widget-view+json": {
       "model_id": "24f488b9d50042209f8cf0eb5b007bae",
       "version_major": 2,
       "version_minor": 0
      },
      "text/plain": [
       "  0%|          | 0/30 [00:00<?, ?it/s]"
      ]
     },
     "metadata": {},
     "output_type": "display_data"
    },
    {
     "name": "stderr",
     "output_type": "stream",
     "text": [
      "INFO:functions.modeling:Iniciando la evaluación del modelo...\n",
      "INFO:functions.modeling:Puntuación de evaluación del modelo: 6.865144524068414e-05\n"
     ]
    },
    {
     "data": {
      "application/vnd.jupyter.widget-view+json": {
       "model_id": "babe6a8f00304fd79d0414f6b1f44ee8",
       "version_major": 2,
       "version_minor": 0
      },
      "text/plain": [
       "  0%|          | 0/10 [00:00<?, ?it/s]"
      ]
     },
     "metadata": {},
     "output_type": "display_data"
    },
    {
     "name": "stderr",
     "output_type": "stream",
     "text": [
      "INFO:functions.modeling:Iniciando la evaluación del modelo...\n",
      "INFO:functions.modeling:Puntuación de evaluación del modelo: 5.2024746012664555e-05\n"
     ]
    },
    {
     "data": {
      "application/vnd.jupyter.widget-view+json": {
       "model_id": "21afebe4ff344af1aa8e27072e0acc2c",
       "version_major": 2,
       "version_minor": 0
      },
      "text/plain": [
       "  0%|          | 0/20 [00:00<?, ?it/s]"
      ]
     },
     "metadata": {},
     "output_type": "display_data"
    },
    {
     "name": "stderr",
     "output_type": "stream",
     "text": [
      "INFO:functions.modeling:Iniciando la evaluación del modelo...\n",
      "INFO:functions.modeling:Puntuación de evaluación del modelo: 5.0712957209803694e-05\n"
     ]
    },
    {
     "data": {
      "application/vnd.jupyter.widget-view+json": {
       "model_id": "9b683143b8c94cc7b1ba8b1df633f977",
       "version_major": 2,
       "version_minor": 0
      },
      "text/plain": [
       "  0%|          | 0/30 [00:00<?, ?it/s]"
      ]
     },
     "metadata": {},
     "output_type": "display_data"
    },
    {
     "name": "stderr",
     "output_type": "stream",
     "text": [
      "INFO:functions.modeling:Iniciando la evaluación del modelo...\n",
      "INFO:functions.modeling:Puntuación de evaluación del modelo: 5.042266529892796e-05\n"
     ]
    },
    {
     "data": {
      "application/vnd.jupyter.widget-view+json": {
       "model_id": "fc5251a156ae47c3a959f0c5a56cc493",
       "version_major": 2,
       "version_minor": 0
      },
      "text/plain": [
       "  0%|          | 0/10 [00:00<?, ?it/s]"
      ]
     },
     "metadata": {},
     "output_type": "display_data"
    },
    {
     "name": "stderr",
     "output_type": "stream",
     "text": [
      "INFO:functions.modeling:Iniciando la evaluación del modelo...\n",
      "INFO:functions.modeling:Puntuación de evaluación del modelo: 9.224845071453797e-05\n"
     ]
    },
    {
     "data": {
      "application/vnd.jupyter.widget-view+json": {
       "model_id": "e1eecdb8496844329dadd4fefdba2a97",
       "version_major": 2,
       "version_minor": 0
      },
      "text/plain": [
       "  0%|          | 0/20 [00:00<?, ?it/s]"
      ]
     },
     "metadata": {},
     "output_type": "display_data"
    },
    {
     "name": "stderr",
     "output_type": "stream",
     "text": [
      "INFO:functions.modeling:Iniciando la evaluación del modelo...\n",
      "INFO:functions.modeling:Puntuación de evaluación del modelo: 9.235442223977504e-05\n"
     ]
    },
    {
     "data": {
      "application/vnd.jupyter.widget-view+json": {
       "model_id": "eeee2e6b9c7a4c3fb4bccdade3c45d69",
       "version_major": 2,
       "version_minor": 0
      },
      "text/plain": [
       "  0%|          | 0/30 [00:00<?, ?it/s]"
      ]
     },
     "metadata": {},
     "output_type": "display_data"
    },
    {
     "name": "stderr",
     "output_type": "stream",
     "text": [
      "INFO:functions.modeling:Iniciando la evaluación del modelo...\n",
      "INFO:functions.modeling:Puntuación de evaluación del modelo: 9.304459397820366e-05\n"
     ]
    },
    {
     "data": {
      "application/vnd.jupyter.widget-view+json": {
       "model_id": "0a5bba594b56437fb3c97e3d27d34e5c",
       "version_major": 2,
       "version_minor": 0
      },
      "text/plain": [
       "  0%|          | 0/10 [00:00<?, ?it/s]"
      ]
     },
     "metadata": {},
     "output_type": "display_data"
    },
    {
     "name": "stderr",
     "output_type": "stream",
     "text": [
      "INFO:functions.modeling:Iniciando la evaluación del modelo...\n",
      "INFO:functions.modeling:Puntuación de evaluación del modelo: 8.143149495086633e-05\n"
     ]
    },
    {
     "data": {
      "application/vnd.jupyter.widget-view+json": {
       "model_id": "3019319b94124f0f9028c212d0935024",
       "version_major": 2,
       "version_minor": 0
      },
      "text/plain": [
       "  0%|          | 0/20 [00:00<?, ?it/s]"
      ]
     },
     "metadata": {},
     "output_type": "display_data"
    },
    {
     "name": "stderr",
     "output_type": "stream",
     "text": [
      "INFO:functions.modeling:Iniciando la evaluación del modelo...\n",
      "INFO:functions.modeling:Puntuación de evaluación del modelo: 8.103248935228906e-05\n"
     ]
    },
    {
     "data": {
      "application/vnd.jupyter.widget-view+json": {
       "model_id": "be5d9ade76cb438c873e72478de295a9",
       "version_major": 2,
       "version_minor": 0
      },
      "text/plain": [
       "  0%|          | 0/30 [00:00<?, ?it/s]"
      ]
     },
     "metadata": {},
     "output_type": "display_data"
    },
    {
     "name": "stderr",
     "output_type": "stream",
     "text": [
      "INFO:functions.modeling:Iniciando la evaluación del modelo...\n",
      "INFO:functions.modeling:Puntuación de evaluación del modelo: 8.013979971341178e-05\n"
     ]
    },
    {
     "data": {
      "application/vnd.jupyter.widget-view+json": {
       "model_id": "6377bef2af28424a8fea240e0ee903b4",
       "version_major": 2,
       "version_minor": 0
      },
      "text/plain": [
       "  0%|          | 0/10 [00:00<?, ?it/s]"
      ]
     },
     "metadata": {},
     "output_type": "display_data"
    },
    {
     "name": "stderr",
     "output_type": "stream",
     "text": [
      "INFO:functions.modeling:Iniciando la evaluación del modelo...\n",
      "INFO:functions.modeling:Puntuación de evaluación del modelo: 5.169131725332574e-05\n"
     ]
    },
    {
     "data": {
      "application/vnd.jupyter.widget-view+json": {
       "model_id": "c871d638cd2f40b6ad2ecd327f406120",
       "version_major": 2,
       "version_minor": 0
      },
      "text/plain": [
       "  0%|          | 0/20 [00:00<?, ?it/s]"
      ]
     },
     "metadata": {},
     "output_type": "display_data"
    },
    {
     "name": "stderr",
     "output_type": "stream",
     "text": [
      "INFO:functions.modeling:Iniciando la evaluación del modelo...\n",
      "INFO:functions.modeling:Puntuación de evaluación del modelo: 5.048056186574978e-05\n"
     ]
    },
    {
     "data": {
      "application/vnd.jupyter.widget-view+json": {
       "model_id": "e85bf82d5418452a9c68a7dad8b7be82",
       "version_major": 2,
       "version_minor": 0
      },
      "text/plain": [
       "  0%|          | 0/30 [00:00<?, ?it/s]"
      ]
     },
     "metadata": {},
     "output_type": "display_data"
    },
    {
     "name": "stderr",
     "output_type": "stream",
     "text": [
      "INFO:functions.modeling:Iniciando la evaluación del modelo...\n",
      "INFO:functions.modeling:Puntuación de evaluación del modelo: 5.033676291064711e-05\n"
     ]
    },
    {
     "data": {
      "application/vnd.jupyter.widget-view+json": {
       "model_id": "d5abf4fde57643829f9fa4e5fe2b5e14",
       "version_major": 2,
       "version_minor": 0
      },
      "text/plain": [
       "  0%|          | 0/10 [00:00<?, ?it/s]"
      ]
     },
     "metadata": {},
     "output_type": "display_data"
    },
    {
     "name": "stderr",
     "output_type": "stream",
     "text": [
      "INFO:functions.modeling:Iniciando la evaluación del modelo...\n",
      "INFO:functions.modeling:Puntuación de evaluación del modelo: 0.00010499909201500094\n"
     ]
    },
    {
     "data": {
      "application/vnd.jupyter.widget-view+json": {
       "model_id": "9409439477be49888b2bc04c1dcf15dd",
       "version_major": 2,
       "version_minor": 0
      },
      "text/plain": [
       "  0%|          | 0/20 [00:00<?, ?it/s]"
      ]
     },
     "metadata": {},
     "output_type": "display_data"
    },
    {
     "name": "stderr",
     "output_type": "stream",
     "text": [
      "INFO:functions.modeling:Iniciando la evaluación del modelo...\n",
      "INFO:functions.modeling:Puntuación de evaluación del modelo: 0.00010479056129148286\n"
     ]
    },
    {
     "data": {
      "application/vnd.jupyter.widget-view+json": {
       "model_id": "aa040067e6384d808c99f68f5202fd67",
       "version_major": 2,
       "version_minor": 0
      },
      "text/plain": [
       "  0%|          | 0/30 [00:00<?, ?it/s]"
      ]
     },
     "metadata": {},
     "output_type": "display_data"
    },
    {
     "name": "stderr",
     "output_type": "stream",
     "text": [
      "INFO:functions.modeling:Iniciando la evaluación del modelo...\n",
      "INFO:functions.modeling:Puntuación de evaluación del modelo: 0.00010416541944769357\n"
     ]
    },
    {
     "data": {
      "application/vnd.jupyter.widget-view+json": {
       "model_id": "f30e1ad22d984482bb177ea7287cc09f",
       "version_major": 2,
       "version_minor": 0
      },
      "text/plain": [
       "  0%|          | 0/10 [00:00<?, ?it/s]"
      ]
     },
     "metadata": {},
     "output_type": "display_data"
    },
    {
     "name": "stderr",
     "output_type": "stream",
     "text": [
      "INFO:functions.modeling:Iniciando la evaluación del modelo...\n",
      "INFO:functions.modeling:Puntuación de evaluación del modelo: 8.967545212991232e-05\n"
     ]
    },
    {
     "data": {
      "application/vnd.jupyter.widget-view+json": {
       "model_id": "b250b3b12ac54c0cb8a3d76309dc109b",
       "version_major": 2,
       "version_minor": 0
      },
      "text/plain": [
       "  0%|          | 0/20 [00:00<?, ?it/s]"
      ]
     },
     "metadata": {},
     "output_type": "display_data"
    },
    {
     "name": "stderr",
     "output_type": "stream",
     "text": [
      "INFO:functions.modeling:Iniciando la evaluación del modelo...\n",
      "INFO:functions.modeling:Puntuación de evaluación del modelo: 8.936492261677445e-05\n"
     ]
    },
    {
     "data": {
      "application/vnd.jupyter.widget-view+json": {
       "model_id": "9df61dba5dd04fa185fe1a1a2ffe9bd7",
       "version_major": 2,
       "version_minor": 0
      },
      "text/plain": [
       "  0%|          | 0/30 [00:00<?, ?it/s]"
      ]
     },
     "metadata": {},
     "output_type": "display_data"
    },
    {
     "name": "stderr",
     "output_type": "stream",
     "text": [
      "INFO:functions.modeling:Iniciando la evaluación del modelo...\n",
      "INFO:functions.modeling:Puntuación de evaluación del modelo: 8.928924928245962e-05\n"
     ]
    },
    {
     "data": {
      "application/vnd.jupyter.widget-view+json": {
       "model_id": "92189f35aa0b412e8816063864982d82",
       "version_major": 2,
       "version_minor": 0
      },
      "text/plain": [
       "  0%|          | 0/10 [00:00<?, ?it/s]"
      ]
     },
     "metadata": {},
     "output_type": "display_data"
    },
    {
     "name": "stderr",
     "output_type": "stream",
     "text": [
      "INFO:functions.modeling:Iniciando la evaluación del modelo...\n",
      "INFO:functions.modeling:Puntuación de evaluación del modelo: 5.147165183462795e-05\n"
     ]
    },
    {
     "data": {
      "application/vnd.jupyter.widget-view+json": {
       "model_id": "a15380bf818441589c9077d8b19bddef",
       "version_major": 2,
       "version_minor": 0
      },
      "text/plain": [
       "  0%|          | 0/20 [00:00<?, ?it/s]"
      ]
     },
     "metadata": {},
     "output_type": "display_data"
    },
    {
     "name": "stderr",
     "output_type": "stream",
     "text": [
      "INFO:functions.modeling:Iniciando la evaluación del modelo...\n",
      "INFO:functions.modeling:Puntuación de evaluación del modelo: 5.0447441926115805e-05\n"
     ]
    },
    {
     "data": {
      "application/vnd.jupyter.widget-view+json": {
       "model_id": "151649e552d84cacb7b46f8fef0e7990",
       "version_major": 2,
       "version_minor": 0
      },
      "text/plain": [
       "  0%|          | 0/30 [00:00<?, ?it/s]"
      ]
     },
     "metadata": {},
     "output_type": "display_data"
    },
    {
     "name": "stderr",
     "output_type": "stream",
     "text": [
      "INFO:functions.modeling:Iniciando la evaluación del modelo...\n",
      "INFO:functions.modeling:Puntuación de evaluación del modelo: 5.0311477529614463e-05\n",
      "INFO:functions.modeling:Mejores hiperparámetros para el segmento Estratégicos: {'factors': 30, 'regularization': 1.0, 'iterations': 30} con una puntuación de 5.0311477529614463e-05\n"
     ]
    },
    {
     "data": {
      "application/vnd.jupyter.widget-view+json": {
       "model_id": "a25052065e85459ba07df9349b437da2",
       "version_major": 2,
       "version_minor": 0
      },
      "text/plain": [
       "  0%|          | 0/30 [00:00<?, ?it/s]"
      ]
     },
     "metadata": {},
     "output_type": "display_data"
    },
    {
     "name": "stderr",
     "output_type": "stream",
     "text": [
      "INFO:functions.modeling:Modelo ALS optimizado para el segmento Estratégicos entrenado con éxito.\n",
      "INFO:functions.modeling:Finalizado la búsqueda de hiperparámetros para todos los segmentos!\n"
     ]
    }
   ],
   "source": [
    "prubea2 = grid_search_als(prubea1, validation_data, parameters['parameters_modeling'])"
   ]
  },
  {
   "cell_type": "code",
   "execution_count": 10,
   "id": "477fa739-2cc7-40df-bb02-f8f990ed1280",
   "metadata": {},
   "outputs": [
    {
     "data": {
      "text/plain": [
       "{'Potenciales': <implicit.cpu.als.AlternatingLeastSquares at 0x155fd3390>,\n",
       " 'Alto Valor': <implicit.cpu.als.AlternatingLeastSquares at 0x155ffbe10>,\n",
       " 'Estratégicos': <implicit.cpu.als.AlternatingLeastSquares at 0x1576ab390>}"
      ]
     },
     "execution_count": 10,
     "metadata": {},
     "output_type": "execute_result"
    }
   ],
   "source": [
    "prubea2"
   ]
  },
  {
   "cell_type": "code",
   "execution_count": 11,
   "id": "d8784f11-7f72-4a43-a969-968aee586a60",
   "metadata": {},
   "outputs": [
    {
     "data": {
      "text/plain": [
       "dict"
      ]
     },
     "execution_count": 11,
     "metadata": {},
     "output_type": "execute_result"
    }
   ],
   "source": [
    "type(prubea2)"
   ]
  },
  {
   "cell_type": "code",
   "execution_count": null,
   "id": "2f966d54-5847-4572-aef5-132ebc9b6644",
   "metadata": {},
   "outputs": [],
   "source": []
  }
 ],
 "metadata": {
  "kernelspec": {
   "display_name": "Python 3 (ipykernel)",
   "language": "python",
   "name": "python3"
  },
  "language_info": {
   "codemirror_mode": {
    "name": "ipython",
    "version": 3
   },
   "file_extension": ".py",
   "mimetype": "text/x-python",
   "name": "python",
   "nbconvert_exporter": "python",
   "pygments_lexer": "ipython3",
   "version": "3.11.0"
  }
 },
 "nbformat": 4,
 "nbformat_minor": 5
}
