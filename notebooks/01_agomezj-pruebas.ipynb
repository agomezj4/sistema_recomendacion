{
 "cells": [
  {
   "cell_type": "code",
   "execution_count": 1,
   "metadata": {
    "ExecuteTime": {
     "end_time": "2024-05-18T01:41:03.608107Z",
     "start_time": "2024-05-18T01:41:02.861578Z"
    }
   },
   "outputs": [],
   "source": [
    "import pandas as pd\n",
    "import sys\n",
    "import yaml\n",
    "import os\n",
    "import numpy as np"
   ]
  },
  {
   "cell_type": "code",
   "execution_count": 2,
   "metadata": {},
   "outputs": [],
   "source": [
    "#pd.options.display.max_rows = None\n",
    "#pd.options.display.max_columns = None"
   ]
  },
  {
   "cell_type": "code",
   "execution_count": 3,
   "metadata": {
    "ExecuteTime": {
     "end_time": "2024-05-18T01:41:04.227890Z",
     "start_time": "2024-05-18T01:41:04.223125Z"
    }
   },
   "outputs": [],
   "source": [
    "sys.path.append('../src/')\n",
    "project_root = os.path.dirname(os.getcwd())"
   ]
  },
  {
   "cell_type": "code",
   "execution_count": 4,
   "metadata": {
    "ExecuteTime": {
     "end_time": "2024-05-18T01:41:04.411370Z",
     "start_time": "2024-05-18T01:41:04.408587Z"
    }
   },
   "outputs": [],
   "source": [
    "# Directorios para los archivos de parámetros y los datos\n",
    "parameters_directory = os.path.join(project_root, 'src', 'parameters')\n",
    "data_raw_directory = os.path.join(project_root, 'data', '01_raw')\n",
    "# data_processed_directory = os.path.join(project_root, 'data', 'processed')\n",
    "# data_features_directory = os.path.join(project_root, 'data', 'featured')"
   ]
  },
  {
   "cell_type": "code",
   "execution_count": 5,
   "metadata": {
    "ExecuteTime": {
     "end_time": "2024-05-18T01:41:06.379173Z",
     "start_time": "2024-05-18T01:41:06.370657Z"
    }
   },
   "outputs": [],
   "source": [
    "# Lista todos los archivos YAML en el directorio especificado\n",
    "yaml_files = [f for f in os.listdir(parameters_directory) if f.endswith('.yml')]\n",
    "\n",
    "# Diccionario para guardar los parámetros cargados\n",
    "parameters = {}\n",
    "\n",
    "# Carga cada archivo YAML\n",
    "for yaml_file in yaml_files:\n",
    "    with open(os.path.join(parameters_directory, yaml_file), 'r') as file:\n",
    "        data = yaml.safe_load(file)\n",
    "        key_name = f'parameters_{yaml_file.replace(\".yml\", \"\")}'\n",
    "        parameters[key_name] = data"
   ]
  },
  {
   "cell_type": "markdown",
   "metadata": {},
   "source": [
    "PROCESSING DATA"
   ]
  },
  {
   "cell_type": "code",
   "execution_count": 6,
   "metadata": {
    "ExecuteTime": {
     "end_time": "2024-05-18T01:41:07.389798Z",
     "start_time": "2024-05-18T01:41:07.372749Z"
    }
   },
   "outputs": [],
   "source": [
    "# Nodos\n",
    "from functions.processing import (left_join_dfs,\n",
    "                                  change_dtypes,\n",
    "                                  impute_missing_categories,\n",
    "                                  impute_missing_values)"
   ]
  },
  {
   "cell_type": "code",
   "execution_count": 7,
   "metadata": {
    "ExecuteTime": {
     "end_time": "2024-05-18T01:41:08.540633Z",
     "start_time": "2024-05-18T01:41:08.032429Z"
    }
   },
   "outputs": [],
   "source": [
    "raw_data_set1_path = os.path.join(data_raw_directory, parameters['parameters_catalog']['raw_data_set1_path'])\n",
    "raw_data_set2_path = os.path.join(data_raw_directory, parameters['parameters_catalog']['raw_data_set2_path'])\n",
    "\n",
    "data_set1_raw = pd.read_csv(raw_data_set1_path) #transaccional\n",
    "data_set2_raw = pd.read_csv(raw_data_set2_path) #demográfico"
   ]
  },
  {
   "cell_type": "code",
   "execution_count": 8,
   "metadata": {
    "ExecuteTime": {
     "end_time": "2024-05-18T01:41:12.617543Z",
     "start_time": "2024-05-18T01:41:10.564303Z"
    }
   },
   "outputs": [
    {
     "name": "stderr",
     "output_type": "stream",
     "text": [
      "INFO:functions.processing:Iniciando el proceso de left join entre los dataframes...\n",
      "INFO:functions.processing:Left join completado con éxito!\n"
     ]
    }
   ],
   "source": [
    "prueba1 = left_join_dfs(data_set1_raw, data_set2_raw, parameters['parameters_processing'])"
   ]
  },
  {
   "cell_type": "code",
   "execution_count": 9,
   "metadata": {},
   "outputs": [
    {
     "name": "stderr",
     "output_type": "stream",
     "text": [
      "INFO:functions.processing:Iniciando el proceso de cambio de tipos de datos...\n",
      "INFO:functions.processing:Columna 'FECHA_SOLUCION' convertida a datetime.\n",
      "INFO:functions.processing:Columna 'FECHANACIMIENTO_DIM_CLIENTE' convertida a datetime.\n",
      "INFO:functions.processing:Columna 'PEDIDO' convertida a object.\n",
      "INFO:functions.processing:Columna 'COD_PRODUCTO' convertida a object.\n",
      "INFO:functions.processing:Proceso de cambio de tipos de datos completado con éxito!\n"
     ]
    }
   ],
   "source": [
    "prueba2 = change_dtypes(prueba1, parameters['parameters_processing'])"
   ]
  },
  {
   "cell_type": "code",
   "execution_count": 10,
   "metadata": {},
   "outputs": [
    {
     "name": "stderr",
     "output_type": "stream",
     "text": [
      "INFO:functions.processing:Iniciando la imputación de categorías nulas...\n",
      "INFO:functions.processing:Número de categorías nulas: 1042\n",
      "INFO:functions.processing:Número de categorías nulas después de imputar: 48\n"
     ]
    }
   ],
   "source": [
    "prueba3 = impute_missing_categories(prueba2, parameters['parameters_processing'])"
   ]
  },
  {
   "cell_type": "code",
   "execution_count": 11,
   "metadata": {},
   "outputs": [
    {
     "name": "stderr",
     "output_type": "stream",
     "text": [
      "INFO:functions.processing:Iniciando el proceso de imputación de valores ausentes...\n",
      "INFO:functions.processing:Proceso de imputación completado con éxito.\n"
     ]
    }
   ],
   "source": [
    "prueba4 = impute_missing_values(prueba3, parameters['parameters_processing'])"
   ]
  },
  {
   "cell_type": "code",
   "execution_count": null,
   "metadata": {},
   "outputs": [],
   "source": []
  },
  {
   "cell_type": "code",
   "execution_count": null,
   "metadata": {},
   "outputs": [],
   "source": []
  },
  {
   "cell_type": "code",
   "execution_count": null,
   "metadata": {},
   "outputs": [],
   "source": []
  },
  {
   "cell_type": "code",
   "execution_count": null,
   "metadata": {},
   "outputs": [],
   "source": []
  },
  {
   "cell_type": "code",
   "execution_count": null,
   "metadata": {},
   "outputs": [],
   "source": []
  },
  {
   "cell_type": "code",
   "execution_count": null,
   "metadata": {},
   "outputs": [],
   "source": []
  },
  {
   "cell_type": "code",
   "execution_count": null,
   "metadata": {},
   "outputs": [],
   "source": []
  },
  {
   "cell_type": "code",
   "execution_count": null,
   "metadata": {},
   "outputs": [],
   "source": []
  },
  {
   "cell_type": "code",
   "execution_count": null,
   "metadata": {},
   "outputs": [],
   "source": []
  }
 ],
 "metadata": {
  "kernelspec": {
   "display_name": "py3.11 sistema_recomendacion",
   "language": "python",
   "name": "sistema_recomendacion"
  },
  "language_info": {
   "codemirror_mode": {
    "name": "ipython",
    "version": 3
   },
   "file_extension": ".py",
   "mimetype": "text/x-python",
   "name": "python",
   "nbconvert_exporter": "python",
   "pygments_lexer": "ipython3",
   "version": "3.11.0"
  }
 },
 "nbformat": 4,
 "nbformat_minor": 4
}
